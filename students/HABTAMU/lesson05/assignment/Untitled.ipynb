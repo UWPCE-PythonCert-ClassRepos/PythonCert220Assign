{
 "cells": [
  {
   "cell_type": "code",
   "execution_count": null,
   "metadata": {},
   "outputs": [],
   "source": [
    "import turtle\n",
    "my_turtle = turtle.Turtle()\n",
    "\n",
    "def square(length, angle):\n",
    "    my_turtle.forward(length)\n",
    "    my_turtle.right(angle)\n",
    "    my_turtle.forward(length)\n",
    "    my_turtle.right(angle)\n",
    "    my_turtle.forward(length)\n",
    "    my_turtle.right(angle)\n",
    "    my_turtle.forward(length)\n",
    "    my_turtle.right(angle)\n",
    "    my_turtle.forward(length)\n",
    "    my_turtle.right(angle)\n",
    "    my_turtle.forward(length)\n",
    "    my_turtle.forward(length)\n",
    "    my_turtle.right(angle)\n",
    "    my_turtle.forward(length)\n",
    "    my_turtle.right(angle)\n",
    "    my_turtle.forward(length)\n",
    "    my_turtle.right(angle)\n",
    "    my_turtle.forward(length)\n",
    "    my_turtle.right(angle)\n",
    "    my_turtle.forward(length)\n",
    "    my_turtle.right(angle)\n",
    "    my_turtle.forward(length)\n",
    "square(34, 45)"
   ]
  },
  {
   "cell_type": "code",
   "execution_count": null,
   "metadata": {},
   "outputs": [],
   "source": []
  }
 ],
 "metadata": {
  "kernelspec": {
   "display_name": "Python 3",
   "language": "python",
   "name": "python3"
  },
  "language_info": {
   "codemirror_mode": {
    "name": "ipython",
    "version": 3
   },
   "file_extension": ".py",
   "mimetype": "text/x-python",
   "name": "python",
   "nbconvert_exporter": "python",
   "pygments_lexer": "ipython3",
   "version": "3.7.0"
  }
 },
 "nbformat": 4,
 "nbformat_minor": 2
}
