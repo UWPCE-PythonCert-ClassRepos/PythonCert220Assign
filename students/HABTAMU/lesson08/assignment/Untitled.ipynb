{
 "cells": [
  {
   "cell_type": "code",
   "execution_count": 4,
   "metadata": {},
   "outputs": [],
   "source": [
    "\n",
    "import csv\n",
    "def add_furniture(invoice_file,\n",
    "                  customer_name,\n",
    "                  item_code,\n",
    "                  item_description,\n",
    "                  item_monthly_price):\n",
    "    '''this will create invoice_file if it doesn’t exist or append a new line to it if it does.\n",
    "    :Params customer_name\n",
    "    :Params invoice_file\n",
    "    :Params item_description\n",
    "    :Params item_monthly_price    \n",
    "    '''\n",
    "    errors = [0, 0, 0]\n",
    "    counts = [0, 0, 0]\n",
    "\n",
    "\n",
    "    with open('invoice_file.csv', 'w') as csvfile:\n",
    "#         filewriter = csv.writer(csvfile, delimiter=',',\n",
    "#                                 quotechar='|', quoting=csv.QUOTE_MINIMAL)\n",
    "        filewriter = csv.writer(csvfile, delimiter=',',\n",
    "                                quotechar='|', quoting=csv.QUOTE_MINIMAL, fieldnames=(\"customer_name\",\n",
    "                                                    \"item_code\",\n",
    "                                                    \"item_description\",\n",
    "                                                    \"item_monthly_price\"))\n",
    "        # filewriter.writerow(['customer_name', 'item_code',\n",
    "        #                      'item_description', 'item_monthly_price'])\n",
    "        filewriter.writerow(['Elisa Miles', 'LR04',\n",
    "                             'Leather Sofa', '25.00'])\n",
    "        filewriter.writerow(['Edward Data', 'KT78',\n",
    "                             'Kitchen Table', '10.00'])\n",
    "        filewriter.writerow(['Alex Gonzales', 'BR02',\n",
    "                             'Queen Mattress', '17.00'])\n",
    "\n",
    "        records = list()\n",
    "        for index, record in enumerate(filewriter):\n",
    "            if index == 0:\n",
    "                continue\n",
    "            try:\n",
    "                record[\"item_monthly_price\"] = int(\n",
    "                    record[\"item_monthly_price\"])\n",
    "            except ValueError:\n",
    "                errors[0] += 1\n",
    "            else:\n",
    "                records.append(record)\n",
    "        counts[0] = len(records)\n",
    "        # pdb;pdb.set_trace()\n",
    "        # return records\n",
    "        return filewriter"
   ]
  },
  {
   "cell_type": "code",
   "execution_count": 3,
   "metadata": {},
   "outputs": [
    {
     "ename": "NameError",
     "evalue": "name 'csv' is not defined",
     "output_type": "error",
     "traceback": [
      "\u001b[0;31m---------------------------------------------------------------------------\u001b[0m",
      "\u001b[0;31mNameError\u001b[0m                                 Traceback (most recent call last)",
      "\u001b[0;32m<ipython-input-3-0f04af6f499b>\u001b[0m in \u001b[0;36m<module>\u001b[0;34m\u001b[0m\n\u001b[0;32m----> 1\u001b[0;31m \u001b[0madd_furniture\u001b[0m\u001b[0;34m(\u001b[0m\u001b[0;34m'invoice_file.csv'\u001b[0m\u001b[0;34m,\u001b[0m \u001b[0;34m'Elisa Miles'\u001b[0m\u001b[0;34m,\u001b[0m \u001b[0;34m'LR04'\u001b[0m\u001b[0;34m,\u001b[0m\u001b[0;34m'Leathr Sofa'\u001b[0m\u001b[0;34m,\u001b[0m \u001b[0;34m'25.00'\u001b[0m\u001b[0;34m)\u001b[0m\u001b[0;34m\u001b[0m\u001b[0m\n\u001b[0m",
      "\u001b[0;32m<ipython-input-1-58ffc1b52cee>\u001b[0m in \u001b[0;36madd_furniture\u001b[0;34m(invoice_file, customer_name, item_code, item_description, item_monthly_price)\u001b[0m\n\u001b[1;32m     17\u001b[0m \u001b[0;34m\u001b[0m\u001b[0m\n\u001b[1;32m     18\u001b[0m     \u001b[0;32mwith\u001b[0m \u001b[0mopen\u001b[0m\u001b[0;34m(\u001b[0m\u001b[0;34m'invoice_file.csv'\u001b[0m\u001b[0;34m,\u001b[0m \u001b[0;34m'w'\u001b[0m\u001b[0;34m)\u001b[0m \u001b[0;32mas\u001b[0m \u001b[0mcsvfile\u001b[0m\u001b[0;34m:\u001b[0m\u001b[0;34m\u001b[0m\u001b[0m\n\u001b[0;32m---> 19\u001b[0;31m         filewriter = csv.writer(csvfile, delimiter=',',\n\u001b[0m\u001b[1;32m     20\u001b[0m                                 quotechar='|', quoting=csv.QUOTE_MINIMAL)\n\u001b[1;32m     21\u001b[0m         \u001b[0;31m# filewriter = csv.writer(csvfile, delimiter=',',\u001b[0m\u001b[0;34m\u001b[0m\u001b[0;34m\u001b[0m\u001b[0m\n",
      "\u001b[0;31mNameError\u001b[0m: name 'csv' is not defined"
     ]
    }
   ],
   "source": [
    "add_furniture('invoice_file.csv', 'Elisa Miles', 'LR04','Leathr Sofa', '25.00')"
   ]
  },
  {
   "cell_type": "code",
   "execution_count": 5,
   "metadata": {},
   "outputs": [
    {
     "ename": "TypeError",
     "evalue": "'_csv.writer' object is not iterable",
     "output_type": "error",
     "traceback": [
      "\u001b[0;31m---------------------------------------------------------------------------\u001b[0m",
      "\u001b[0;31mTypeError\u001b[0m                                 Traceback (most recent call last)",
      "\u001b[0;32m<ipython-input-5-0f04af6f499b>\u001b[0m in \u001b[0;36m<module>\u001b[0;34m\u001b[0m\n\u001b[0;32m----> 1\u001b[0;31m \u001b[0madd_furniture\u001b[0m\u001b[0;34m(\u001b[0m\u001b[0;34m'invoice_file.csv'\u001b[0m\u001b[0;34m,\u001b[0m \u001b[0;34m'Elisa Miles'\u001b[0m\u001b[0;34m,\u001b[0m \u001b[0;34m'LR04'\u001b[0m\u001b[0;34m,\u001b[0m\u001b[0;34m'Leathr Sofa'\u001b[0m\u001b[0;34m,\u001b[0m \u001b[0;34m'25.00'\u001b[0m\u001b[0;34m)\u001b[0m\u001b[0;34m\u001b[0m\u001b[0m\n\u001b[0m",
      "\u001b[0;32m<ipython-input-4-806a1a4676a8>\u001b[0m in \u001b[0;36madd_furniture\u001b[0;34m(invoice_file, customer_name, item_code, item_description, item_monthly_price)\u001b[0m\n\u001b[1;32m     34\u001b[0m \u001b[0;34m\u001b[0m\u001b[0m\n\u001b[1;32m     35\u001b[0m         \u001b[0mrecords\u001b[0m \u001b[0;34m=\u001b[0m \u001b[0mlist\u001b[0m\u001b[0;34m(\u001b[0m\u001b[0;34m)\u001b[0m\u001b[0;34m\u001b[0m\u001b[0m\n\u001b[0;32m---> 36\u001b[0;31m         \u001b[0;32mfor\u001b[0m \u001b[0mindex\u001b[0m\u001b[0;34m,\u001b[0m \u001b[0mrecord\u001b[0m \u001b[0;32min\u001b[0m \u001b[0menumerate\u001b[0m\u001b[0;34m(\u001b[0m\u001b[0mfilewriter\u001b[0m\u001b[0;34m)\u001b[0m\u001b[0;34m:\u001b[0m\u001b[0;34m\u001b[0m\u001b[0m\n\u001b[0m\u001b[1;32m     37\u001b[0m             \u001b[0;32mif\u001b[0m \u001b[0mindex\u001b[0m \u001b[0;34m==\u001b[0m \u001b[0;36m0\u001b[0m\u001b[0;34m:\u001b[0m\u001b[0;34m\u001b[0m\u001b[0m\n\u001b[1;32m     38\u001b[0m                 \u001b[0;32mcontinue\u001b[0m\u001b[0;34m\u001b[0m\u001b[0m\n",
      "\u001b[0;31mTypeError\u001b[0m: '_csv.writer' object is not iterable"
     ]
    }
   ],
   "source": [
    "add_furniture('invoice_file.csv', 'Elisa Miles', 'LR04','Leathr Sofa', '25.00')"
   ]
  },
  {
   "cell_type": "code",
   "execution_count": 8,
   "metadata": {},
   "outputs": [],
   "source": [
    "import csv\n",
    "def add_furniture(invoice_file,\n",
    "                  customer_name,\n",
    "                  item_code,\n",
    "                  item_description,\n",
    "                  item_monthly_price):\n",
    "    '''this will create invoice_file if it doesn’t exist or append a new line to it if it does.\n",
    "    :Params customer_name\n",
    "    :Params invoice_file\n",
    "    :Params item_description\n",
    "    :Params item_monthly_price    \n",
    "    '''\n",
    "    errors = [0, 0, 0]\n",
    "    counts = [0, 0, 0]\n",
    "\n",
    "\n",
    "    with open('invoice_file.csv', 'w') as csvfile:\n",
    "#         filewriter = csv.writer(csvfile, delimiter=',',\n",
    "#                                 quotechar='|', quoting=csv.QUOTE_MINIMAL)\n",
    "        filewriter = csv.writer(csvfile, delimiter=',',\n",
    "                                quotechar='|', quoting=csv.QUOTE_MINIMAL, fieldnames=(\"customer_name\",\n",
    "                                                    \"item_code\",\n",
    "                                                    \"item_description\",\n",
    "                                                    \"item_monthly_price\"))\n",
    "        # filewriter.writerow(['customer_name', 'item_code',\n",
    "        #                      'item_description', 'item_monthly_price'])\n",
    "#         filewriter.writerow(['Elisa Miles', 'LR04',\n",
    "#                              'Leather Sofa', '25.00'])\n",
    "#         filewriter.writerow(['Edward Data', 'KT78',\n",
    "#                              'Kitchen Table', '10.00'])\n",
    "#         filewriter.writerow(['Alex Gonzales', 'BR02',\n",
    "#                              'Queen Mattress', '17.00'])\n",
    "\n",
    "        records = list()\n",
    "        for index, record in enumerate(filewriter):\n",
    "            if index == 0:\n",
    "                continue\n",
    "            try:\n",
    "                record[\"item_monthly_price\"] = int(\n",
    "                    record[\"item_monthly_price\"])\n",
    "            except ValueError:\n",
    "                errors[0] += 1\n",
    "            else:\n",
    "                records.append(record)\n",
    "        counts[0] = len(records)\n",
    "        # pdb;pdb.set_trace()\n",
    "        # return records\n",
    "        return filewriter"
   ]
  },
  {
   "cell_type": "code",
   "execution_count": 9,
   "metadata": {},
   "outputs": [
    {
     "ename": "TypeError",
     "evalue": "'fieldnames' is an invalid keyword argument for this function",
     "output_type": "error",
     "traceback": [
      "\u001b[0;31m---------------------------------------------------------------------------\u001b[0m",
      "\u001b[0;31mTypeError\u001b[0m                                 Traceback (most recent call last)",
      "\u001b[0;32m<ipython-input-9-0f04af6f499b>\u001b[0m in \u001b[0;36m<module>\u001b[0;34m\u001b[0m\n\u001b[0;32m----> 1\u001b[0;31m \u001b[0madd_furniture\u001b[0m\u001b[0;34m(\u001b[0m\u001b[0;34m'invoice_file.csv'\u001b[0m\u001b[0;34m,\u001b[0m \u001b[0;34m'Elisa Miles'\u001b[0m\u001b[0;34m,\u001b[0m \u001b[0;34m'LR04'\u001b[0m\u001b[0;34m,\u001b[0m\u001b[0;34m'Leathr Sofa'\u001b[0m\u001b[0;34m,\u001b[0m \u001b[0;34m'25.00'\u001b[0m\u001b[0;34m)\u001b[0m\u001b[0;34m\u001b[0m\u001b[0m\n\u001b[0m",
      "\u001b[0;32m<ipython-input-8-3bd92e5c3f54>\u001b[0m in \u001b[0;36madd_furniture\u001b[0;34m(invoice_file, customer_name, item_code, item_description, item_monthly_price)\u001b[0m\n\u001b[1;32m     19\u001b[0m \u001b[0;31m#                                 quotechar='|', quoting=csv.QUOTE_MINIMAL)\u001b[0m\u001b[0;34m\u001b[0m\u001b[0;34m\u001b[0m\u001b[0m\n\u001b[1;32m     20\u001b[0m         filewriter = csv.writer(csvfile, delimiter=',',\n\u001b[0;32m---> 21\u001b[0;31m                                 quotechar='|', quoting=csv.QUOTE_MINIMAL, fieldnames=(\"customer_name\",\n\u001b[0m\u001b[1;32m     22\u001b[0m                                                     \u001b[0;34m\"item_code\"\u001b[0m\u001b[0;34m,\u001b[0m\u001b[0;34m\u001b[0m\u001b[0m\n\u001b[1;32m     23\u001b[0m                                                     \u001b[0;34m\"item_description\"\u001b[0m\u001b[0;34m,\u001b[0m\u001b[0;34m\u001b[0m\u001b[0m\n",
      "\u001b[0;31mTypeError\u001b[0m: 'fieldnames' is an invalid keyword argument for this function"
     ]
    }
   ],
   "source": [
    "add_furniture('invoice_file.csv', 'Elisa Miles', 'LR04','Leathr Sofa', '25.00')"
   ]
  },
  {
   "cell_type": "code",
   "execution_count": 10,
   "metadata": {},
   "outputs": [],
   "source": [
    "import csv\n",
    "def add_furniture(invoice_file,\n",
    "                  customer_name,\n",
    "                  item_code,\n",
    "                  item_description,\n",
    "                  item_monthly_price):\n",
    "    '''this will create invoice_file if it doesn’t exist or append a new line to it if it does.\n",
    "    :Params customer_name\n",
    "    :Params invoice_file\n",
    "    :Params item_description\n",
    "    :Params item_monthly_price    \n",
    "    '''\n",
    "    errors = [0, 0, 0]\n",
    "    counts = [0, 0, 0]\n",
    "\n",
    "\n",
    "    with open('invoice_file.csv', 'w') as csvfile:\n",
    "#         filewriter = csv.writer(csvfile, delimiter=',',\n",
    "#                                 quotechar='|', quoting=csv.QUOTE_MINIMAL)\n",
    "        filewriter = csv.writer(csvfile, delimiter=',',\n",
    "                                quotechar='|', quoting=csv.QUOTE_MINIMAL)\n",
    "        # filewriter.writerow(['customer_name', 'item_code',\n",
    "        #                      'item_description', 'item_monthly_price'])\n",
    "#         filewriter.writerow(['Elisa Miles', 'LR04',\n",
    "#                              'Leather Sofa', '25.00'])\n",
    "#         filewriter.writerow(['Edward Data', 'KT78',\n",
    "#                              'Kitchen Table', '10.00'])\n",
    "#         filewriter.writerow(['Alex Gonzales', 'BR02',\n",
    "#                              'Queen Mattress', '17.00'])\n",
    "\n",
    "        records = list()\n",
    "        for index, record in enumerate(filewriter):\n",
    "            if index == 0:\n",
    "                continue\n",
    "            try:\n",
    "                record[\"item_monthly_price\"] = int(\n",
    "                    record[\"item_monthly_price\"])\n",
    "            except ValueError:\n",
    "                errors[0] += 1\n",
    "            else:\n",
    "                records.append(record)\n",
    "        counts[0] = len(records)\n",
    "        # pdb;pdb.set_trace()\n",
    "        # return records\n",
    "        return filewriter"
   ]
  },
  {
   "cell_type": "code",
   "execution_count": 11,
   "metadata": {},
   "outputs": [
    {
     "ename": "TypeError",
     "evalue": "'fieldnames' is an invalid keyword argument for this function",
     "output_type": "error",
     "traceback": [
      "\u001b[0;31m---------------------------------------------------------------------------\u001b[0m",
      "\u001b[0;31mTypeError\u001b[0m                                 Traceback (most recent call last)",
      "\u001b[0;32m<ipython-input-11-0f04af6f499b>\u001b[0m in \u001b[0;36m<module>\u001b[0;34m\u001b[0m\n\u001b[0;32m----> 1\u001b[0;31m \u001b[0madd_furniture\u001b[0m\u001b[0;34m(\u001b[0m\u001b[0;34m'invoice_file.csv'\u001b[0m\u001b[0;34m,\u001b[0m \u001b[0;34m'Elisa Miles'\u001b[0m\u001b[0;34m,\u001b[0m \u001b[0;34m'LR04'\u001b[0m\u001b[0;34m,\u001b[0m\u001b[0;34m'Leathr Sofa'\u001b[0m\u001b[0;34m,\u001b[0m \u001b[0;34m'25.00'\u001b[0m\u001b[0;34m)\u001b[0m\u001b[0;34m\u001b[0m\u001b[0m\n\u001b[0m",
      "\u001b[0;32m<ipython-input-10-3bd92e5c3f54>\u001b[0m in \u001b[0;36madd_furniture\u001b[0;34m(invoice_file, customer_name, item_code, item_description, item_monthly_price)\u001b[0m\n\u001b[1;32m     19\u001b[0m \u001b[0;31m#                                 quotechar='|', quoting=csv.QUOTE_MINIMAL)\u001b[0m\u001b[0;34m\u001b[0m\u001b[0;34m\u001b[0m\u001b[0m\n\u001b[1;32m     20\u001b[0m         filewriter = csv.writer(csvfile, delimiter=',',\n\u001b[0;32m---> 21\u001b[0;31m                                 quotechar='|', quoting=csv.QUOTE_MINIMAL, fieldnames=(\"customer_name\",\n\u001b[0m\u001b[1;32m     22\u001b[0m                                                     \u001b[0;34m\"item_code\"\u001b[0m\u001b[0;34m,\u001b[0m\u001b[0;34m\u001b[0m\u001b[0m\n\u001b[1;32m     23\u001b[0m                                                     \u001b[0;34m\"item_description\"\u001b[0m\u001b[0;34m,\u001b[0m\u001b[0;34m\u001b[0m\u001b[0m\n",
      "\u001b[0;31mTypeError\u001b[0m: 'fieldnames' is an invalid keyword argument for this function"
     ]
    }
   ],
   "source": [
    "add_furniture('invoice_file.csv', 'Elisa Miles', 'LR04','Leathr Sofa', '25.00')"
   ]
  },
  {
   "cell_type": "code",
   "execution_count": 22,
   "metadata": {},
   "outputs": [],
   "source": [
    "import csv\n",
    "def add_furniture(invoice_file,\n",
    "                  customer_name,\n",
    "                  item_code,\n",
    "                  item_description,\n",
    "                  item_monthly_price):\n",
    "    '''this will create invoice_file if it doesn’t exist or append a new line to it if it does.\n",
    "    :Params customer_name\n",
    "    :Params invoice_file\n",
    "    :Params item_description\n",
    "    :Params item_monthly_price    \n",
    "    '''\n",
    "\n",
    "    with open('invoice_file.csv', 'w') as csvfile:\n",
    "        filewriter = csv.writer(csvfile, delimiter=',',\n",
    "                                quotechar='|', quoting=csv.QUOTE_MINIMAL)\n",
    "        filewriter.writerow(['customer_name', 'item_code',\n",
    "                             'item_description', 'item_monthly_price'])\n",
    "        filewriter.writerow(['PElisa Miles', 'LR04',\n",
    "                             'Leather Sofa', '25.00'])\n",
    "        filewriter.writerow(['Edward Data', 'KT78',\n",
    "                             'Kitchen Table', '10.00'])\n",
    "        filewriter.writerow(['Alex Gonzales', 'BR02',\n",
    "                             'Queen Mattress', '17.00'])\n",
    "        return filewriter"
   ]
  },
  {
   "cell_type": "code",
   "execution_count": 23,
   "metadata": {},
   "outputs": [
    {
     "data": {
      "text/plain": [
       "<_csv.writer at 0x111fe4d00>"
      ]
     },
     "execution_count": 23,
     "metadata": {},
     "output_type": "execute_result"
    }
   ],
   "source": [
    "add_furniture('invoice_file.csv', 'PElisa Miles', 'LR04','Leathr Sofa', '25.00')"
   ]
  },
  {
   "cell_type": "code",
   "execution_count": 14,
   "metadata": {},
   "outputs": [
    {
     "ename": "TypeError",
     "evalue": "'_csv.writer' object is not iterable",
     "output_type": "error",
     "traceback": [
      "\u001b[0;31m---------------------------------------------------------------------------\u001b[0m",
      "\u001b[0;31mTypeError\u001b[0m                                 Traceback (most recent call last)",
      "\u001b[0;32m<ipython-input-14-0f04af6f499b>\u001b[0m in \u001b[0;36m<module>\u001b[0;34m\u001b[0m\n\u001b[0;32m----> 1\u001b[0;31m \u001b[0madd_furniture\u001b[0m\u001b[0;34m(\u001b[0m\u001b[0;34m'invoice_file.csv'\u001b[0m\u001b[0;34m,\u001b[0m \u001b[0;34m'Elisa Miles'\u001b[0m\u001b[0;34m,\u001b[0m \u001b[0;34m'LR04'\u001b[0m\u001b[0;34m,\u001b[0m\u001b[0;34m'Leathr Sofa'\u001b[0m\u001b[0;34m,\u001b[0m \u001b[0;34m'25.00'\u001b[0m\u001b[0;34m)\u001b[0m\u001b[0;34m\u001b[0m\u001b[0m\n\u001b[0m",
      "\u001b[0;32m<ipython-input-12-0d7bb03a44b5>\u001b[0m in \u001b[0;36madd_furniture\u001b[0;34m(invoice_file, customer_name, item_code, item_description, item_monthly_price)\u001b[0m\n\u001b[1;32m     30\u001b[0m \u001b[0;34m\u001b[0m\u001b[0m\n\u001b[1;32m     31\u001b[0m         \u001b[0mrecords\u001b[0m \u001b[0;34m=\u001b[0m \u001b[0mlist\u001b[0m\u001b[0;34m(\u001b[0m\u001b[0;34m)\u001b[0m\u001b[0;34m\u001b[0m\u001b[0m\n\u001b[0;32m---> 32\u001b[0;31m         \u001b[0;32mfor\u001b[0m \u001b[0mindex\u001b[0m\u001b[0;34m,\u001b[0m \u001b[0mrecord\u001b[0m \u001b[0;32min\u001b[0m \u001b[0menumerate\u001b[0m\u001b[0;34m(\u001b[0m\u001b[0mfilewriter\u001b[0m\u001b[0;34m)\u001b[0m\u001b[0;34m:\u001b[0m\u001b[0;34m\u001b[0m\u001b[0m\n\u001b[0m\u001b[1;32m     33\u001b[0m             \u001b[0;32mif\u001b[0m \u001b[0mindex\u001b[0m \u001b[0;34m==\u001b[0m \u001b[0;36m0\u001b[0m\u001b[0;34m:\u001b[0m\u001b[0;34m\u001b[0m\u001b[0m\n\u001b[1;32m     34\u001b[0m                 \u001b[0;32mcontinue\u001b[0m\u001b[0;34m\u001b[0m\u001b[0m\n",
      "\u001b[0;31mTypeError\u001b[0m: '_csv.writer' object is not iterable"
     ]
    }
   ],
   "source": [
    "add_furniture('invoice_file.csv', 'Elisa Miles', 'LR04','Leathr Sofa', '25.00')"
   ]
  },
  {
   "cell_type": "code",
   "execution_count": 30,
   "metadata": {},
   "outputs": [],
   "source": [
    "\n",
    "import csv\n",
    "import csv \n",
    "from functools import partial\n",
    "\n",
    "import csv\n",
    "\n",
    "\n",
    "def add_furniture(invoice_file,\n",
    "                  customer_name,\n",
    "                  item_code,\n",
    "                  item_description,\n",
    "                  item_monthly_price):\n",
    "    '''this will create invoice_file if it doesn’t exist or append a new line to it if it does.\n",
    "    :Params customer_name\n",
    "    :Params invoice_file\n",
    "    :Params item_description\n",
    "    :Params item_monthly_price    \n",
    "    '''\n",
    "\n",
    "    with open('invoice_file.csv', 'w') as csvfile:\n",
    "        filewriter = csv.writer(csvfile, delimiter=',',\n",
    "                                quotechar='|', quoting=csv.QUOTE_MINIMAL)\n",
    "        filewriter.writerow(['customer_name', 'item_code',\n",
    "                             'item_description', 'item_monthly_price'])\n",
    "        filewriter.writerow(['PElisa Miles', 'LR04',\n",
    "                             'Leather Sofa', '25.00'])\n",
    "        filewriter.writerow(['Edward Data', 'KT78',\n",
    "                             'Kitchen Table', '10.00'])\n",
    "        filewriter.writerow(['Alex Gonzales', 'BR02',\n",
    "                             'Queen Mattress', '17.00'])\n",
    "        filewriter.writerow(['Gonzales', 'B02',\n",
    "                             'Mattress', '7.00'])\n",
    "        return filewriter.__str__()\n",
    "\n",
    "\n",
    "def single_customer(customer_name, invoice_file):\n",
    "    '''\n",
    "    :Params customer_name\n",
    "    :Params invoice_file\n",
    "    :Returns function(rental_items),\n",
    "    This will iterate through rental_items and add each item to invoice_file\n",
    "    '''\n",
    "\n",
    "    # return \n",
    "    pass"
   ]
  },
  {
   "cell_type": "code",
   "execution_count": 31,
   "metadata": {},
   "outputs": [
    {
     "data": {
      "text/plain": [
       "'<_csv.writer object at 0x111fe4888>'"
      ]
     },
     "execution_count": 31,
     "metadata": {},
     "output_type": "execute_result"
    }
   ],
   "source": [
    "add_furniture('invoice_file.csv', 'Miles', 'L04','Sofa', '5.00')\n"
   ]
  },
  {
   "cell_type": "code",
   "execution_count": 37,
   "metadata": {},
   "outputs": [],
   "source": [
    "\n",
    "from tempfile import NamedTemporaryFile\n",
    "import shutil\n",
    "import csv \n",
    "from functools import partial\n",
    "\n",
    "\n",
    "def add_furniture(invoice_file,\n",
    "                  customer_name,\n",
    "                  item_code,\n",
    "                  item_description,\n",
    "                  item_monthly_price):\n",
    "    '''this will create invoice_file if it doesn’t exist or append a new line to it if it does.\n",
    "    :Params customer_name\n",
    "    :Params invoice_file\n",
    "    :Params item_description\n",
    "    :Params item_monthly_price    \n",
    "    '''\n",
    "    filename = 'invoice_file1.csv'\n",
    "\n",
    "    tempfile = NamedTemporaryFile(mode='w', delete=False)\n",
    "\n",
    "    filename = ['customer_name', 'item_code',\n",
    "                'item_description', 'item_monthly_price']\n",
    "    with open(filename, 'r') as csvfile,tempfile:\n",
    "        reader = csv.DictReader(csvfile, fieldnames=fields)\n",
    "        writer = csv.DictWriter(tempfile, fieldnames=fields)\n",
    "\n",
    "    #     filewriter.writerow(['customer_name', 'item_code',\n",
    "    #                          'item_description', 'item_monthly_price'])\n",
    "\n",
    "    # for row in reader:\n",
    "\n",
    "    #     if row['customer_name'] == str(stud_ID):\n",
    "    #         print('updating row', row['ID'])\n",
    "    #         row['Name'], row['Course'], row['Year'] = stud_name, stud_course, stud_year\n",
    "    #     row = {'ID': row['ID'], 'Name': row['Name'],\n",
    "    #            'Course': row['Course'], 'Year': row['Year']}\n",
    "    #     writer.writerow(row)\n",
    "\n",
    "    shutil.move(tempfile.name, filename)\n",
    "\n",
    "    writer.writerow(['customer_name', 'item_code',\n",
    "                     'item_description', 'item_monthly_price'])\n",
    "    writer.writerow(['PElisa Miles', 'LR04',\n",
    "                            'Leather Sofa', '25.00'])\n",
    "    writer.writerow(['Edward Data', 'KT78',\n",
    "                            'Kitchen Table', '10.00'])\n",
    "    writer.writerow(['Alex Gonzales', 'BR02',\n",
    "                            'Queen Mattress', '17.00'])\n",
    "    writer.writerow(['Gonzales', 'B02',\n",
    "                            'Mattress', '7.00'])\n",
    "    return writer\n",
    "\n",
    "\n",
    "def single_customer(customer_name, invoice_file):\n",
    "    '''\n",
    "    :Params customer_name\n",
    "    :Params invoice_file\n",
    "    :Returns function(rental_items),\n",
    "    This will iterate through rental_items and add each item to invoice_file\n",
    "    '''\n",
    "\n",
    "    # return \n",
    "    pass\n"
   ]
  },
  {
   "cell_type": "code",
   "execution_count": 34,
   "metadata": {},
   "outputs": [
    {
     "ename": "TypeError",
     "evalue": "expected str, bytes or os.PathLike object, not list",
     "output_type": "error",
     "traceback": [
      "\u001b[0;31m---------------------------------------------------------------------------\u001b[0m",
      "\u001b[0;31mTypeError\u001b[0m                                 Traceback (most recent call last)",
      "\u001b[0;32m<ipython-input-34-c770b36bccf7>\u001b[0m in \u001b[0;36m<module>\u001b[0;34m\u001b[0m\n\u001b[0;32m----> 1\u001b[0;31m \u001b[0madd_furniture\u001b[0m\u001b[0;34m(\u001b[0m\u001b[0;34m'invoice_file1.csv'\u001b[0m\u001b[0;34m,\u001b[0m \u001b[0;34m'Miles'\u001b[0m\u001b[0;34m,\u001b[0m \u001b[0;34m'L04'\u001b[0m\u001b[0;34m,\u001b[0m\u001b[0;34m'Sofa'\u001b[0m\u001b[0;34m,\u001b[0m \u001b[0;34m'5.00'\u001b[0m\u001b[0;34m)\u001b[0m\u001b[0;34m\u001b[0m\u001b[0m\n\u001b[0m",
      "\u001b[0;32m<ipython-input-33-738f252d4e68>\u001b[0m in \u001b[0;36madd_furniture\u001b[0;34m(invoice_file, customer_name, item_code, item_description, item_monthly_price)\u001b[0m\n\u001b[1;32m     24\u001b[0m     '''\n\u001b[1;32m     25\u001b[0m \u001b[0;34m\u001b[0m\u001b[0m\n\u001b[0;32m---> 26\u001b[0;31m     \u001b[0;32mwith\u001b[0m \u001b[0mopen\u001b[0m\u001b[0;34m(\u001b[0m\u001b[0mfilename\u001b[0m\u001b[0;34m,\u001b[0m \u001b[0;34m'r'\u001b[0m\u001b[0;34m)\u001b[0m \u001b[0;32mas\u001b[0m \u001b[0mcsvfile\u001b[0m\u001b[0;34m,\u001b[0m\u001b[0mtempfile\u001b[0m\u001b[0;34m:\u001b[0m\u001b[0;34m\u001b[0m\u001b[0m\n\u001b[0m\u001b[1;32m     27\u001b[0m         \u001b[0mreader\u001b[0m \u001b[0;34m=\u001b[0m \u001b[0mcsv\u001b[0m\u001b[0;34m.\u001b[0m\u001b[0mDictReader\u001b[0m\u001b[0;34m(\u001b[0m\u001b[0mcsvfile\u001b[0m\u001b[0;34m,\u001b[0m \u001b[0mfieldnames\u001b[0m\u001b[0;34m=\u001b[0m\u001b[0mfields\u001b[0m\u001b[0;34m)\u001b[0m\u001b[0;34m\u001b[0m\u001b[0m\n\u001b[1;32m     28\u001b[0m         \u001b[0mwriter\u001b[0m \u001b[0;34m=\u001b[0m \u001b[0mcsv\u001b[0m\u001b[0;34m.\u001b[0m\u001b[0mDictWriter\u001b[0m\u001b[0;34m(\u001b[0m\u001b[0mtempfile\u001b[0m\u001b[0;34m,\u001b[0m \u001b[0mfieldnames\u001b[0m\u001b[0;34m=\u001b[0m\u001b[0mfields\u001b[0m\u001b[0;34m)\u001b[0m\u001b[0;34m\u001b[0m\u001b[0m\n",
      "\u001b[0;31mTypeError\u001b[0m: expected str, bytes or os.PathLike object, not list"
     ]
    }
   ],
   "source": [
    "add_furniture('invoice_file1.csv', 'Miles', 'L04','Sofa', '5.00')"
   ]
  },
  {
   "cell_type": "code",
   "execution_count": 35,
   "metadata": {},
   "outputs": [
    {
     "ename": "NameError",
     "evalue": "name 'invoice_file1' is not defined",
     "output_type": "error",
     "traceback": [
      "\u001b[0;31m---------------------------------------------------------------------------\u001b[0m",
      "\u001b[0;31mNameError\u001b[0m                                 Traceback (most recent call last)",
      "\u001b[0;32m<ipython-input-35-ab17bced48a3>\u001b[0m in \u001b[0;36m<module>\u001b[0;34m\u001b[0m\n\u001b[0;32m----> 1\u001b[0;31m \u001b[0madd_furniture\u001b[0m\u001b[0;34m(\u001b[0m\u001b[0minvoice_file1\u001b[0m\u001b[0;34m.\u001b[0m\u001b[0mcsv\u001b[0m\u001b[0;34m,\u001b[0m \u001b[0;34m'Miles'\u001b[0m\u001b[0;34m,\u001b[0m \u001b[0;34m'L04'\u001b[0m\u001b[0;34m,\u001b[0m\u001b[0;34m'Sofa'\u001b[0m\u001b[0;34m,\u001b[0m \u001b[0;34m'5.00'\u001b[0m\u001b[0;34m)\u001b[0m\u001b[0;34m\u001b[0m\u001b[0m\n\u001b[0m",
      "\u001b[0;31mNameError\u001b[0m: name 'invoice_file1' is not defined"
     ]
    }
   ],
   "source": [
    "add_furniture(invoice_file1.csv, 'Miles', 'L04','Sofa', '5.00')"
   ]
  },
  {
   "cell_type": "code",
   "execution_count": 36,
   "metadata": {},
   "outputs": [
    {
     "ename": "TypeError",
     "evalue": "expected str, bytes or os.PathLike object, not list",
     "output_type": "error",
     "traceback": [
      "\u001b[0;31m---------------------------------------------------------------------------\u001b[0m",
      "\u001b[0;31mTypeError\u001b[0m                                 Traceback (most recent call last)",
      "\u001b[0;32m<ipython-input-36-c770b36bccf7>\u001b[0m in \u001b[0;36m<module>\u001b[0;34m\u001b[0m\n\u001b[0;32m----> 1\u001b[0;31m \u001b[0madd_furniture\u001b[0m\u001b[0;34m(\u001b[0m\u001b[0;34m'invoice_file1.csv'\u001b[0m\u001b[0;34m,\u001b[0m \u001b[0;34m'Miles'\u001b[0m\u001b[0;34m,\u001b[0m \u001b[0;34m'L04'\u001b[0m\u001b[0;34m,\u001b[0m\u001b[0;34m'Sofa'\u001b[0m\u001b[0;34m,\u001b[0m \u001b[0;34m'5.00'\u001b[0m\u001b[0;34m)\u001b[0m\u001b[0;34m\u001b[0m\u001b[0m\n\u001b[0m",
      "\u001b[0;32m<ipython-input-33-738f252d4e68>\u001b[0m in \u001b[0;36madd_furniture\u001b[0;34m(invoice_file, customer_name, item_code, item_description, item_monthly_price)\u001b[0m\n\u001b[1;32m     24\u001b[0m     '''\n\u001b[1;32m     25\u001b[0m \u001b[0;34m\u001b[0m\u001b[0m\n\u001b[0;32m---> 26\u001b[0;31m     \u001b[0;32mwith\u001b[0m \u001b[0mopen\u001b[0m\u001b[0;34m(\u001b[0m\u001b[0mfilename\u001b[0m\u001b[0;34m,\u001b[0m \u001b[0;34m'r'\u001b[0m\u001b[0;34m)\u001b[0m \u001b[0;32mas\u001b[0m \u001b[0mcsvfile\u001b[0m\u001b[0;34m,\u001b[0m\u001b[0mtempfile\u001b[0m\u001b[0;34m:\u001b[0m\u001b[0;34m\u001b[0m\u001b[0m\n\u001b[0m\u001b[1;32m     27\u001b[0m         \u001b[0mreader\u001b[0m \u001b[0;34m=\u001b[0m \u001b[0mcsv\u001b[0m\u001b[0;34m.\u001b[0m\u001b[0mDictReader\u001b[0m\u001b[0;34m(\u001b[0m\u001b[0mcsvfile\u001b[0m\u001b[0;34m,\u001b[0m \u001b[0mfieldnames\u001b[0m\u001b[0;34m=\u001b[0m\u001b[0mfields\u001b[0m\u001b[0;34m)\u001b[0m\u001b[0;34m\u001b[0m\u001b[0m\n\u001b[1;32m     28\u001b[0m         \u001b[0mwriter\u001b[0m \u001b[0;34m=\u001b[0m \u001b[0mcsv\u001b[0m\u001b[0;34m.\u001b[0m\u001b[0mDictWriter\u001b[0m\u001b[0;34m(\u001b[0m\u001b[0mtempfile\u001b[0m\u001b[0;34m,\u001b[0m \u001b[0mfieldnames\u001b[0m\u001b[0;34m=\u001b[0m\u001b[0mfields\u001b[0m\u001b[0;34m)\u001b[0m\u001b[0;34m\u001b[0m\u001b[0m\n",
      "\u001b[0;31mTypeError\u001b[0m: expected str, bytes or os.PathLike object, not list"
     ]
    }
   ],
   "source": [
    "add_furniture('invoice_file1.csv', 'Miles', 'L04','Sofa', '5.00')"
   ]
  },
  {
   "cell_type": "code",
   "execution_count": 38,
   "metadata": {},
   "outputs": [
    {
     "ename": "TypeError",
     "evalue": "expected str, bytes or os.PathLike object, not list",
     "output_type": "error",
     "traceback": [
      "\u001b[0;31m---------------------------------------------------------------------------\u001b[0m",
      "\u001b[0;31mTypeError\u001b[0m                                 Traceback (most recent call last)",
      "\u001b[0;32m<ipython-input-38-c770b36bccf7>\u001b[0m in \u001b[0;36m<module>\u001b[0;34m\u001b[0m\n\u001b[0;32m----> 1\u001b[0;31m \u001b[0madd_furniture\u001b[0m\u001b[0;34m(\u001b[0m\u001b[0;34m'invoice_file1.csv'\u001b[0m\u001b[0;34m,\u001b[0m \u001b[0;34m'Miles'\u001b[0m\u001b[0;34m,\u001b[0m \u001b[0;34m'L04'\u001b[0m\u001b[0;34m,\u001b[0m\u001b[0;34m'Sofa'\u001b[0m\u001b[0;34m,\u001b[0m \u001b[0;34m'5.00'\u001b[0m\u001b[0;34m)\u001b[0m\u001b[0;34m\u001b[0m\u001b[0m\n\u001b[0m",
      "\u001b[0;32m<ipython-input-37-a6b3c15d9aa8>\u001b[0m in \u001b[0;36madd_furniture\u001b[0;34m(invoice_file, customer_name, item_code, item_description, item_monthly_price)\u001b[0m\n\u001b[1;32m     23\u001b[0m     filename = ['customer_name', 'item_code',\n\u001b[1;32m     24\u001b[0m                 'item_description', 'item_monthly_price']\n\u001b[0;32m---> 25\u001b[0;31m     \u001b[0;32mwith\u001b[0m \u001b[0mopen\u001b[0m\u001b[0;34m(\u001b[0m\u001b[0mfilename\u001b[0m\u001b[0;34m,\u001b[0m \u001b[0;34m'r'\u001b[0m\u001b[0;34m)\u001b[0m \u001b[0;32mas\u001b[0m \u001b[0mcsvfile\u001b[0m\u001b[0;34m,\u001b[0m\u001b[0mtempfile\u001b[0m\u001b[0;34m:\u001b[0m\u001b[0;34m\u001b[0m\u001b[0m\n\u001b[0m\u001b[1;32m     26\u001b[0m         \u001b[0mreader\u001b[0m \u001b[0;34m=\u001b[0m \u001b[0mcsv\u001b[0m\u001b[0;34m.\u001b[0m\u001b[0mDictReader\u001b[0m\u001b[0;34m(\u001b[0m\u001b[0mcsvfile\u001b[0m\u001b[0;34m,\u001b[0m \u001b[0mfieldnames\u001b[0m\u001b[0;34m=\u001b[0m\u001b[0mfields\u001b[0m\u001b[0;34m)\u001b[0m\u001b[0;34m\u001b[0m\u001b[0m\n\u001b[1;32m     27\u001b[0m         \u001b[0mwriter\u001b[0m \u001b[0;34m=\u001b[0m \u001b[0mcsv\u001b[0m\u001b[0;34m.\u001b[0m\u001b[0mDictWriter\u001b[0m\u001b[0;34m(\u001b[0m\u001b[0mtempfile\u001b[0m\u001b[0;34m,\u001b[0m \u001b[0mfieldnames\u001b[0m\u001b[0;34m=\u001b[0m\u001b[0mfields\u001b[0m\u001b[0;34m)\u001b[0m\u001b[0;34m\u001b[0m\u001b[0m\n",
      "\u001b[0;31mTypeError\u001b[0m: expected str, bytes or os.PathLike object, not list"
     ]
    }
   ],
   "source": [
    "add_furniture('invoice_file1.csv', 'Miles', 'L04','Sofa', '5.00')"
   ]
  },
  {
   "cell_type": "code",
   "execution_count": 39,
   "metadata": {},
   "outputs": [],
   "source": [
    "\n",
    "from tempfile import NamedTemporaryFile\n",
    "import shutil\n",
    "import csv \n",
    "from functools import partial\n",
    "\n",
    "\n",
    "def add_furniture(invoice_file,\n",
    "                  customer_name,\n",
    "                  item_code,\n",
    "                  item_description,\n",
    "                  item_monthly_price):\n",
    "    '''this will create invoice_file if it doesn’t exist or append a new line to it if it does.\n",
    "    :Params customer_name\n",
    "    :Params invoice_file\n",
    "    :Params item_description\n",
    "    :Params item_monthly_price    \n",
    "    '''\n",
    "    filename = 'invoice_file1.csv'\n",
    "\n",
    "    tempfile = NamedTemporaryFile(mode='w', delete=False)\n",
    "\n",
    "    filename = ['customer_name', 'item_code',\n",
    "                'item_description', 'item_monthly_price']\n",
    "    with open(filename, 'r') as csvfile,tempfile:\n",
    "        reader = csv.DictReader(csvfile, fieldnames=fields)\n",
    "        writer = csv.DictWriter(tempfile, fieldnames=fields)\n",
    "\n",
    "    #     filewriter.writerow(['customer_name', 'item_code',\n",
    "    #                          'item_description', 'item_monthly_price'])\n",
    "\n",
    "    # for row in reader:\n",
    "\n",
    "    #     if row['customer_name'] == str(stud_ID):\n",
    "    #         print('updating row', row['ID'])\n",
    "    #         row['Name'], row['Course'], row['Year'] = stud_name, stud_course, stud_year\n",
    "    #     row = {'ID': row['ID'], 'Name': row['Name'],\n",
    "    #            'Course': row['Course'], 'Year': row['Year']}\n",
    "    #     writer.writerow(row)\n",
    "\n",
    "    shutil.move(tempfile.name, filename)\n",
    "\n",
    "    writer.writerow(['customer_name', 'item_code',\n",
    "                     'item_description', 'item_monthly_price'])\n",
    "    writer.writerow(['PElisa Miles', 'LR04',\n",
    "                            'Leather Sofa', '25.00'])\n",
    "    writer.writerow(['Edward Data', 'KT78',\n",
    "                            'Kitchen Table', '10.00'])\n",
    "    writer.writerow(['Alex Gonzales', 'BR02',\n",
    "                            'Queen Mattress', '17.00'])\n",
    "    writer.writerow(['Gonzales', 'B02',\n",
    "                            'Mattress', '7.00'])\n",
    "    return writer\n",
    "\n",
    "\n",
    "def single_customer(customer_name, invoice_file):\n",
    "    '''\n",
    "    :Params customer_name\n",
    "    :Params invoice_file\n",
    "    :Returns function(rental_items),\n",
    "    This will iterate through rental_items and add each item to invoice_file\n",
    "    '''\n",
    "\n",
    "    # return \n",
    "    pass\n"
   ]
  },
  {
   "cell_type": "code",
   "execution_count": 40,
   "metadata": {},
   "outputs": [
    {
     "ename": "TypeError",
     "evalue": "expected str, bytes or os.PathLike object, not list",
     "output_type": "error",
     "traceback": [
      "\u001b[0;31m---------------------------------------------------------------------------\u001b[0m",
      "\u001b[0;31mTypeError\u001b[0m                                 Traceback (most recent call last)",
      "\u001b[0;32m<ipython-input-40-c770b36bccf7>\u001b[0m in \u001b[0;36m<module>\u001b[0;34m\u001b[0m\n\u001b[0;32m----> 1\u001b[0;31m \u001b[0madd_furniture\u001b[0m\u001b[0;34m(\u001b[0m\u001b[0;34m'invoice_file1.csv'\u001b[0m\u001b[0;34m,\u001b[0m \u001b[0;34m'Miles'\u001b[0m\u001b[0;34m,\u001b[0m \u001b[0;34m'L04'\u001b[0m\u001b[0;34m,\u001b[0m\u001b[0;34m'Sofa'\u001b[0m\u001b[0;34m,\u001b[0m \u001b[0;34m'5.00'\u001b[0m\u001b[0;34m)\u001b[0m\u001b[0;34m\u001b[0m\u001b[0m\n\u001b[0m",
      "\u001b[0;32m<ipython-input-39-a6b3c15d9aa8>\u001b[0m in \u001b[0;36madd_furniture\u001b[0;34m(invoice_file, customer_name, item_code, item_description, item_monthly_price)\u001b[0m\n\u001b[1;32m     23\u001b[0m     filename = ['customer_name', 'item_code',\n\u001b[1;32m     24\u001b[0m                 'item_description', 'item_monthly_price']\n\u001b[0;32m---> 25\u001b[0;31m     \u001b[0;32mwith\u001b[0m \u001b[0mopen\u001b[0m\u001b[0;34m(\u001b[0m\u001b[0mfilename\u001b[0m\u001b[0;34m,\u001b[0m \u001b[0;34m'r'\u001b[0m\u001b[0;34m)\u001b[0m \u001b[0;32mas\u001b[0m \u001b[0mcsvfile\u001b[0m\u001b[0;34m,\u001b[0m\u001b[0mtempfile\u001b[0m\u001b[0;34m:\u001b[0m\u001b[0;34m\u001b[0m\u001b[0m\n\u001b[0m\u001b[1;32m     26\u001b[0m         \u001b[0mreader\u001b[0m \u001b[0;34m=\u001b[0m \u001b[0mcsv\u001b[0m\u001b[0;34m.\u001b[0m\u001b[0mDictReader\u001b[0m\u001b[0;34m(\u001b[0m\u001b[0mcsvfile\u001b[0m\u001b[0;34m,\u001b[0m \u001b[0mfieldnames\u001b[0m\u001b[0;34m=\u001b[0m\u001b[0mfields\u001b[0m\u001b[0;34m)\u001b[0m\u001b[0;34m\u001b[0m\u001b[0m\n\u001b[1;32m     27\u001b[0m         \u001b[0mwriter\u001b[0m \u001b[0;34m=\u001b[0m \u001b[0mcsv\u001b[0m\u001b[0;34m.\u001b[0m\u001b[0mDictWriter\u001b[0m\u001b[0;34m(\u001b[0m\u001b[0mtempfile\u001b[0m\u001b[0;34m,\u001b[0m \u001b[0mfieldnames\u001b[0m\u001b[0;34m=\u001b[0m\u001b[0mfields\u001b[0m\u001b[0;34m)\u001b[0m\u001b[0;34m\u001b[0m\u001b[0m\n",
      "\u001b[0;31mTypeError\u001b[0m: expected str, bytes or os.PathLike object, not list"
     ]
    }
   ],
   "source": [
    "add_furniture('invoice_file1.csv', 'Miles', 'L04','Sofa', '5.00')"
   ]
  },
  {
   "cell_type": "code",
   "execution_count": 51,
   "metadata": {},
   "outputs": [],
   "source": [
    "\n",
    "from tempfile import NamedTemporaryFile\n",
    "import shutil\n",
    "import csv \n",
    "from functools import partial\n",
    "\n",
    "filename = 'invoice_file1.csv'\n",
    "\n",
    "tempfile = NamedTemporaryFile(mode='w', delete=False)\n",
    "\n",
    "filename = ['customer_name', 'item_code',\n",
    "            'item_description', 'item_monthly_price']\n",
    "\n",
    "def add_furniture(invoice_file,\n",
    "                  customer_name,\n",
    "                  item_code,\n",
    "                  item_description,\n",
    "                  item_monthly_price):\n",
    "    '''this will create invoice_file if it doesn’t exist or append a new line to it if it does.\n",
    "    :Params customer_name\n",
    "    :Params invoice_file\n",
    "    :Params item_description\n",
    "    :Params item_monthly_price    \n",
    "    '''\n",
    "\n",
    "    with open('filename', 'r') as csvfile,tempfile:\n",
    "        reader = csv.DictReader(csvfile, fieldnames=fields)\n",
    "        writer = csv.DictWriter(tempfile, fieldnames=fields)\n",
    "\n",
    "    #     filewriter.writerow(['customer_name', 'item_code',\n",
    "    #                          'item_description', 'item_monthly_price'])\n",
    "\n",
    "    for row in reader:\n",
    "\n",
    "        if row['customer_name'] == str(customer_name):\n",
    "            print('updating row', row['customer_name'])\n",
    "            row['customer_name'], row['item_code'], row['item_description'], row[\n",
    "                'item_monthly_price'] = customer_name, item_code, item_description, item_monthly_price\n",
    "        row = {'customer_name': row['customer_name'], 'item_code': row['item_code'],\n",
    "               'item_description': row['item_description'], 'item_monthly_price': row['item_monthly_price']}\n",
    "        writer.writerow(row)\n",
    "\n",
    "    shutil.move(tempfile.name, filename)\n",
    "\n",
    "    # writer.writerow(['customer_name', 'item_code',\n",
    "    #                  'item_description', 'item_monthly_price'])\n",
    "    # writer.writerow(['PElisa Miles', 'LR04',\n",
    "    #                         'Leather Sofa', '25.00'])\n",
    "    # writer.writerow(['Edward Data', 'KT78',\n",
    "    #                         'Kitchen Table', '10.00'])\n",
    "    # writer.writerow(['Alex Gonzales', 'BR02',\n",
    "    #                         'Queen Mattress', '17.00'])\n",
    "    # writer.writerow(['Gonzales', 'B02',\n",
    "    #                         'Mattress', '7.00'])\n",
    "    return writer\n",
    "\n",
    "\n",
    "def single_customer(customer_name, invoice_file):\n",
    "    '''\n",
    "    :Params customer_name\n",
    "    :Params invoice_file\n",
    "    :Returns function(rental_items),\n",
    "    This will iterate through rental_items and add each item to invoice_file\n",
    "    '''\n",
    "\n",
    "    # return \n",
    "    pass\n"
   ]
  },
  {
   "cell_type": "code",
   "execution_count": 49,
   "metadata": {},
   "outputs": [
    {
     "ename": "ValueError",
     "evalue": "binary mode doesn't take an encoding argument",
     "output_type": "error",
     "traceback": [
      "\u001b[0;31m---------------------------------------------------------------------------\u001b[0m",
      "\u001b[0;31mValueError\u001b[0m                                Traceback (most recent call last)",
      "\u001b[0;32m<ipython-input-49-00c001137923>\u001b[0m in \u001b[0;36m<module>\u001b[0;34m\u001b[0m\n\u001b[0;32m----> 1\u001b[0;31m \u001b[0madd_furniture\u001b[0m\u001b[0;34m(\u001b[0m\u001b[0;34m'filename'\u001b[0m\u001b[0;34m,\u001b[0m \u001b[0;34m'Miles'\u001b[0m\u001b[0;34m,\u001b[0m \u001b[0;34m'L04'\u001b[0m\u001b[0;34m,\u001b[0m\u001b[0;34m'Sofa'\u001b[0m\u001b[0;34m,\u001b[0m \u001b[0;34m'5.00'\u001b[0m\u001b[0;34m)\u001b[0m\u001b[0;34m\u001b[0m\u001b[0m\n\u001b[0m",
      "\u001b[0;32m<ipython-input-48-e18d557918da>\u001b[0m in \u001b[0;36madd_furniture\u001b[0;34m(invoice_file, customer_name, item_code, item_description, item_monthly_price)\u001b[0m\n\u001b[1;32m     24\u001b[0m     '''\n\u001b[1;32m     25\u001b[0m \u001b[0;34m\u001b[0m\u001b[0m\n\u001b[0;32m---> 26\u001b[0;31m     \u001b[0;32mwith\u001b[0m \u001b[0mopen\u001b[0m\u001b[0;34m(\u001b[0m\u001b[0;34m'filename'\u001b[0m\u001b[0;34m,\u001b[0m \u001b[0;34m'rb'\u001b[0m\u001b[0;34m,\u001b[0m \u001b[0mencoding\u001b[0m\u001b[0;34m=\u001b[0m\u001b[0;34m'utf8'\u001b[0m\u001b[0;34m)\u001b[0m \u001b[0;32mas\u001b[0m \u001b[0mcsvfile\u001b[0m\u001b[0;34m,\u001b[0m\u001b[0mtempfile\u001b[0m\u001b[0;34m:\u001b[0m\u001b[0;34m\u001b[0m\u001b[0m\n\u001b[0m\u001b[1;32m     27\u001b[0m         \u001b[0mreader\u001b[0m \u001b[0;34m=\u001b[0m \u001b[0mcsv\u001b[0m\u001b[0;34m.\u001b[0m\u001b[0mDictReader\u001b[0m\u001b[0;34m(\u001b[0m\u001b[0mcsvfile\u001b[0m\u001b[0;34m,\u001b[0m \u001b[0mfieldnames\u001b[0m\u001b[0;34m=\u001b[0m\u001b[0mfields\u001b[0m\u001b[0;34m)\u001b[0m\u001b[0;34m\u001b[0m\u001b[0m\n\u001b[1;32m     28\u001b[0m         \u001b[0mwriter\u001b[0m \u001b[0;34m=\u001b[0m \u001b[0mcsv\u001b[0m\u001b[0;34m.\u001b[0m\u001b[0mDictWriter\u001b[0m\u001b[0;34m(\u001b[0m\u001b[0mtempfile\u001b[0m\u001b[0;34m,\u001b[0m \u001b[0mfieldnames\u001b[0m\u001b[0;34m=\u001b[0m\u001b[0mfields\u001b[0m\u001b[0;34m)\u001b[0m\u001b[0;34m\u001b[0m\u001b[0m\n",
      "\u001b[0;31mValueError\u001b[0m: binary mode doesn't take an encoding argument"
     ]
    }
   ],
   "source": [
    "add_furniture('filename', 'Miles', 'L04','Sofa', '5.00')"
   ]
  },
  {
   "cell_type": "code",
   "execution_count": 52,
   "metadata": {},
   "outputs": [],
   "source": [
    "\n",
    "from tempfile import NamedTemporaryFile\n",
    "import shutil\n",
    "import csv \n",
    "from functools import partial\n",
    "\n",
    "filename = 'invoice_file1.csv'\n",
    "\n",
    "tempfile = NamedTemporaryFile(mode='w', delete=False)\n",
    "\n",
    "filename = ['customer_name', 'item_code',\n",
    "            'item_description', 'item_monthly_price']\n",
    "\n",
    "def add_furniture(invoice_file,\n",
    "                  customer_name,\n",
    "                  item_code,\n",
    "                  item_description,\n",
    "                  item_monthly_price):\n",
    "    '''this will create invoice_file if it doesn’t exist or append a new line to it if it does.\n",
    "    :Params customer_name\n",
    "    :Params invoice_file\n",
    "    :Params item_description\n",
    "    :Params item_monthly_price    \n",
    "    '''\n",
    "\n",
    "    with open('filename', 'r') as csvfile,tempfile:\n",
    "        reader = csv.DictReader(csvfile, fieldnames=fields)\n",
    "        writer = csv.DictWriter(tempfile, fieldnames=fields)\n",
    "\n",
    "    #     filewriter.writerow(['customer_name', 'item_code',\n",
    "    #                          'item_description', 'item_monthly_price'])\n",
    "\n",
    "    for row in reader:\n",
    "\n",
    "        if row['customer_name'] == str(customer_name):\n",
    "            print('updating row', row['customer_name'])\n",
    "            row['customer_name'], row['item_code'], row['item_description'], row[\n",
    "                'item_monthly_price'] = customer_name, item_code, item_description, item_monthly_price\n",
    "        row = {'customer_name': row['customer_name'], 'item_code': row['item_code'],\n",
    "               'item_description': row['item_description'], 'item_monthly_price': row['item_monthly_price']}\n",
    "        writer.writerow(row)\n",
    "\n",
    "    shutil.move(tempfile.name, filename)\n",
    "\n",
    "    # writer.writerow(['customer_name', 'item_code',\n",
    "    #                  'item_description', 'item_monthly_price'])\n",
    "    # writer.writerow(['PElisa Miles', 'LR04',\n",
    "    #                         'Leather Sofa', '25.00'])\n",
    "    # writer.writerow(['Edward Data', 'KT78',\n",
    "    #                         'Kitchen Table', '10.00'])\n",
    "    # writer.writerow(['Alex Gonzales', 'BR02',\n",
    "    #                         'Queen Mattress', '17.00'])\n",
    "    # writer.writerow(['Gonzales', 'B02',\n",
    "    #                         'Mattress', '7.00'])\n",
    "    return writer\n",
    "\n",
    "\n",
    "def single_customer(customer_name, invoice_file):\n",
    "    '''\n",
    "    :Params customer_name\n",
    "    :Params invoice_file\n",
    "    :Returns function(rental_items),\n",
    "    This will iterate through rental_items and add each item to invoice_file\n",
    "    '''\n",
    "\n",
    "    # return \n",
    "    pass\n"
   ]
  },
  {
   "cell_type": "code",
   "execution_count": 53,
   "metadata": {},
   "outputs": [
    {
     "ename": "FileNotFoundError",
     "evalue": "[Errno 2] No such file or directory: 'filename'",
     "output_type": "error",
     "traceback": [
      "\u001b[0;31m---------------------------------------------------------------------------\u001b[0m",
      "\u001b[0;31mFileNotFoundError\u001b[0m                         Traceback (most recent call last)",
      "\u001b[0;32m<ipython-input-53-00c001137923>\u001b[0m in \u001b[0;36m<module>\u001b[0;34m\u001b[0m\n\u001b[0;32m----> 1\u001b[0;31m \u001b[0madd_furniture\u001b[0m\u001b[0;34m(\u001b[0m\u001b[0;34m'filename'\u001b[0m\u001b[0;34m,\u001b[0m \u001b[0;34m'Miles'\u001b[0m\u001b[0;34m,\u001b[0m \u001b[0;34m'L04'\u001b[0m\u001b[0;34m,\u001b[0m\u001b[0;34m'Sofa'\u001b[0m\u001b[0;34m,\u001b[0m \u001b[0;34m'5.00'\u001b[0m\u001b[0;34m)\u001b[0m\u001b[0;34m\u001b[0m\u001b[0m\n\u001b[0m",
      "\u001b[0;32m<ipython-input-52-9f013bbe3630>\u001b[0m in \u001b[0;36madd_furniture\u001b[0;34m(invoice_file, customer_name, item_code, item_description, item_monthly_price)\u001b[0m\n\u001b[1;32m     24\u001b[0m     '''\n\u001b[1;32m     25\u001b[0m \u001b[0;34m\u001b[0m\u001b[0m\n\u001b[0;32m---> 26\u001b[0;31m     \u001b[0;32mwith\u001b[0m \u001b[0mopen\u001b[0m\u001b[0;34m(\u001b[0m\u001b[0;34m'filename'\u001b[0m\u001b[0;34m,\u001b[0m \u001b[0;34m'r'\u001b[0m\u001b[0;34m)\u001b[0m \u001b[0;32mas\u001b[0m \u001b[0mcsvfile\u001b[0m\u001b[0;34m,\u001b[0m\u001b[0mtempfile\u001b[0m\u001b[0;34m:\u001b[0m\u001b[0;34m\u001b[0m\u001b[0m\n\u001b[0m\u001b[1;32m     27\u001b[0m         \u001b[0mreader\u001b[0m \u001b[0;34m=\u001b[0m \u001b[0mcsv\u001b[0m\u001b[0;34m.\u001b[0m\u001b[0mDictReader\u001b[0m\u001b[0;34m(\u001b[0m\u001b[0mcsvfile\u001b[0m\u001b[0;34m,\u001b[0m \u001b[0mfieldnames\u001b[0m\u001b[0;34m=\u001b[0m\u001b[0mfields\u001b[0m\u001b[0;34m)\u001b[0m\u001b[0;34m\u001b[0m\u001b[0m\n\u001b[1;32m     28\u001b[0m         \u001b[0mwriter\u001b[0m \u001b[0;34m=\u001b[0m \u001b[0mcsv\u001b[0m\u001b[0;34m.\u001b[0m\u001b[0mDictWriter\u001b[0m\u001b[0;34m(\u001b[0m\u001b[0mtempfile\u001b[0m\u001b[0;34m,\u001b[0m \u001b[0mfieldnames\u001b[0m\u001b[0;34m=\u001b[0m\u001b[0mfields\u001b[0m\u001b[0;34m)\u001b[0m\u001b[0;34m\u001b[0m\u001b[0m\n",
      "\u001b[0;31mFileNotFoundError\u001b[0m: [Errno 2] No such file or directory: 'filename'"
     ]
    }
   ],
   "source": [
    "add_furniture('filename', 'Miles', 'L04','Sofa', '5.00')"
   ]
  },
  {
   "cell_type": "code",
   "execution_count": 54,
   "metadata": {},
   "outputs": [
    {
     "ename": "FileNotFoundError",
     "evalue": "[Errno 2] No such file or directory: 'filename'",
     "output_type": "error",
     "traceback": [
      "\u001b[0;31m---------------------------------------------------------------------------\u001b[0m",
      "\u001b[0;31mFileNotFoundError\u001b[0m                         Traceback (most recent call last)",
      "\u001b[0;32m<ipython-input-54-07b3214f7204>\u001b[0m in \u001b[0;36m<module>\u001b[0;34m\u001b[0m\n\u001b[0;32m----> 1\u001b[0;31m \u001b[0madd_furniture\u001b[0m\u001b[0;34m(\u001b[0m\u001b[0mfilename\u001b[0m\u001b[0;34m,\u001b[0m \u001b[0;34m'Miles'\u001b[0m\u001b[0;34m,\u001b[0m \u001b[0;34m'L04'\u001b[0m\u001b[0;34m,\u001b[0m\u001b[0;34m'Sofa'\u001b[0m\u001b[0;34m,\u001b[0m \u001b[0;34m'5.00'\u001b[0m\u001b[0;34m)\u001b[0m\u001b[0;34m\u001b[0m\u001b[0m\n\u001b[0m",
      "\u001b[0;32m<ipython-input-52-9f013bbe3630>\u001b[0m in \u001b[0;36madd_furniture\u001b[0;34m(invoice_file, customer_name, item_code, item_description, item_monthly_price)\u001b[0m\n\u001b[1;32m     24\u001b[0m     '''\n\u001b[1;32m     25\u001b[0m \u001b[0;34m\u001b[0m\u001b[0m\n\u001b[0;32m---> 26\u001b[0;31m     \u001b[0;32mwith\u001b[0m \u001b[0mopen\u001b[0m\u001b[0;34m(\u001b[0m\u001b[0;34m'filename'\u001b[0m\u001b[0;34m,\u001b[0m \u001b[0;34m'r'\u001b[0m\u001b[0;34m)\u001b[0m \u001b[0;32mas\u001b[0m \u001b[0mcsvfile\u001b[0m\u001b[0;34m,\u001b[0m\u001b[0mtempfile\u001b[0m\u001b[0;34m:\u001b[0m\u001b[0;34m\u001b[0m\u001b[0m\n\u001b[0m\u001b[1;32m     27\u001b[0m         \u001b[0mreader\u001b[0m \u001b[0;34m=\u001b[0m \u001b[0mcsv\u001b[0m\u001b[0;34m.\u001b[0m\u001b[0mDictReader\u001b[0m\u001b[0;34m(\u001b[0m\u001b[0mcsvfile\u001b[0m\u001b[0;34m,\u001b[0m \u001b[0mfieldnames\u001b[0m\u001b[0;34m=\u001b[0m\u001b[0mfields\u001b[0m\u001b[0;34m)\u001b[0m\u001b[0;34m\u001b[0m\u001b[0m\n\u001b[1;32m     28\u001b[0m         \u001b[0mwriter\u001b[0m \u001b[0;34m=\u001b[0m \u001b[0mcsv\u001b[0m\u001b[0;34m.\u001b[0m\u001b[0mDictWriter\u001b[0m\u001b[0;34m(\u001b[0m\u001b[0mtempfile\u001b[0m\u001b[0;34m,\u001b[0m \u001b[0mfieldnames\u001b[0m\u001b[0;34m=\u001b[0m\u001b[0mfields\u001b[0m\u001b[0;34m)\u001b[0m\u001b[0;34m\u001b[0m\u001b[0m\n",
      "\u001b[0;31mFileNotFoundError\u001b[0m: [Errno 2] No such file or directory: 'filename'"
     ]
    }
   ],
   "source": [
    "add_furniture(filename, 'Miles', 'L04','Sofa', '5.00')"
   ]
  },
  {
   "cell_type": "code",
   "execution_count": 55,
   "metadata": {},
   "outputs": [],
   "source": [
    "\n",
    "from tempfile import NamedTemporaryFile\n",
    "import shutil\n",
    "import csv \n",
    "from functools import partial\n",
    "\n",
    "filename = 'invoice_file1.csv'\n",
    "\n",
    "tempfile = NamedTemporaryFile(mode='w', delete=False)\n",
    "\n",
    "filename = ['customer_name', 'item_code',\n",
    "            'item_description', 'item_monthly_price']\n",
    "\n",
    "def add_furniture(invoice_file,\n",
    "                  customer_name,\n",
    "                  item_code,\n",
    "                  item_description,\n",
    "                  item_monthly_price):\n",
    "    '''this will create invoice_file if it doesn’t exist or append a new line to it if it does.\n",
    "    :Params customer_name\n",
    "    :Params invoice_file\n",
    "    :Params item_description\n",
    "    :Params item_monthly_price    \n",
    "    '''\n",
    "\n",
    "    with open(filename, 'r') as csvfile,tempfile:\n",
    "        reader = csv.DictReader(csvfile, fieldnames=fields)\n",
    "        writer = csv.DictWriter(tempfile, fieldnames=fields)\n",
    "\n",
    "    #     filewriter.writerow(['customer_name', 'item_code',\n",
    "    #                          'item_description', 'item_monthly_price'])\n",
    "\n",
    "    for row in reader:\n",
    "\n",
    "        if row['customer_name'] == str(customer_name):\n",
    "            print('updating row', row['customer_name'])\n",
    "            row['customer_name'], row['item_code'], row['item_description'], row[\n",
    "                'item_monthly_price'] = customer_name, item_code, item_description, item_monthly_price\n",
    "        row = {'customer_name': row['customer_name'], 'item_code': row['item_code'],\n",
    "               'item_description': row['item_description'], 'item_monthly_price': row['item_monthly_price']}\n",
    "        writer.writerow(row)\n",
    "\n",
    "    shutil.move(tempfile.name, filename)\n",
    "\n",
    "    # writer.writerow(['customer_name', 'item_code',\n",
    "    #                  'item_description', 'item_monthly_price'])\n",
    "    # writer.writerow(['PElisa Miles', 'LR04',\n",
    "    #                         'Leather Sofa', '25.00'])\n",
    "    # writer.writerow(['Edward Data', 'KT78',\n",
    "    #                         'Kitchen Table', '10.00'])\n",
    "    # writer.writerow(['Alex Gonzales', 'BR02',\n",
    "    #                         'Queen Mattress', '17.00'])\n",
    "    # writer.writerow(['Gonzales', 'B02',\n",
    "    #                         'Mattress', '7.00'])\n",
    "    return writer\n",
    "\n",
    "\n",
    "def single_customer(customer_name, invoice_file):\n",
    "    '''\n",
    "    :Params customer_name\n",
    "    :Params invoice_file\n",
    "    :Returns function(rental_items),\n",
    "    This will iterate through rental_items and add each item to invoice_file\n",
    "    '''\n",
    "\n",
    "    # return \n",
    "    pass\n"
   ]
  },
  {
   "cell_type": "code",
   "execution_count": 56,
   "metadata": {},
   "outputs": [
    {
     "ename": "TypeError",
     "evalue": "expected str, bytes or os.PathLike object, not list",
     "output_type": "error",
     "traceback": [
      "\u001b[0;31m---------------------------------------------------------------------------\u001b[0m",
      "\u001b[0;31mTypeError\u001b[0m                                 Traceback (most recent call last)",
      "\u001b[0;32m<ipython-input-56-07b3214f7204>\u001b[0m in \u001b[0;36m<module>\u001b[0;34m\u001b[0m\n\u001b[0;32m----> 1\u001b[0;31m \u001b[0madd_furniture\u001b[0m\u001b[0;34m(\u001b[0m\u001b[0mfilename\u001b[0m\u001b[0;34m,\u001b[0m \u001b[0;34m'Miles'\u001b[0m\u001b[0;34m,\u001b[0m \u001b[0;34m'L04'\u001b[0m\u001b[0;34m,\u001b[0m\u001b[0;34m'Sofa'\u001b[0m\u001b[0;34m,\u001b[0m \u001b[0;34m'5.00'\u001b[0m\u001b[0;34m)\u001b[0m\u001b[0;34m\u001b[0m\u001b[0m\n\u001b[0m",
      "\u001b[0;32m<ipython-input-55-d2df9a53bf37>\u001b[0m in \u001b[0;36madd_furniture\u001b[0;34m(invoice_file, customer_name, item_code, item_description, item_monthly_price)\u001b[0m\n\u001b[1;32m     24\u001b[0m     '''\n\u001b[1;32m     25\u001b[0m \u001b[0;34m\u001b[0m\u001b[0m\n\u001b[0;32m---> 26\u001b[0;31m     \u001b[0;32mwith\u001b[0m \u001b[0mopen\u001b[0m\u001b[0;34m(\u001b[0m\u001b[0mfilename\u001b[0m\u001b[0;34m,\u001b[0m \u001b[0;34m'r'\u001b[0m\u001b[0;34m)\u001b[0m \u001b[0;32mas\u001b[0m \u001b[0mcsvfile\u001b[0m\u001b[0;34m,\u001b[0m\u001b[0mtempfile\u001b[0m\u001b[0;34m:\u001b[0m\u001b[0;34m\u001b[0m\u001b[0m\n\u001b[0m\u001b[1;32m     27\u001b[0m         \u001b[0mreader\u001b[0m \u001b[0;34m=\u001b[0m \u001b[0mcsv\u001b[0m\u001b[0;34m.\u001b[0m\u001b[0mDictReader\u001b[0m\u001b[0;34m(\u001b[0m\u001b[0mcsvfile\u001b[0m\u001b[0;34m,\u001b[0m \u001b[0mfieldnames\u001b[0m\u001b[0;34m=\u001b[0m\u001b[0mfields\u001b[0m\u001b[0;34m)\u001b[0m\u001b[0;34m\u001b[0m\u001b[0m\n\u001b[1;32m     28\u001b[0m         \u001b[0mwriter\u001b[0m \u001b[0;34m=\u001b[0m \u001b[0mcsv\u001b[0m\u001b[0;34m.\u001b[0m\u001b[0mDictWriter\u001b[0m\u001b[0;34m(\u001b[0m\u001b[0mtempfile\u001b[0m\u001b[0;34m,\u001b[0m \u001b[0mfieldnames\u001b[0m\u001b[0;34m=\u001b[0m\u001b[0mfields\u001b[0m\u001b[0;34m)\u001b[0m\u001b[0;34m\u001b[0m\u001b[0m\n",
      "\u001b[0;31mTypeError\u001b[0m: expected str, bytes or os.PathLike object, not list"
     ]
    }
   ],
   "source": [
    "add_furniture(filename, 'Miles', 'L04','Sofa', '5.00')"
   ]
  },
  {
   "cell_type": "code",
   "execution_count": 63,
   "metadata": {},
   "outputs": [],
   "source": [
    "\n",
    "from tempfile import NamedTemporaryFile\n",
    "import shutil\n",
    "import csv \n",
    "from functools import partial\n",
    "\n",
    "\n",
    "def add_furniture(invoice_file,\n",
    "                  customer_name,\n",
    "                  item_code,\n",
    "                  item_description,\n",
    "                  item_monthly_price):\n",
    "    '''this will create invoice_file if it doesn’t exist or append a new line to it if it does.\n",
    "    :Params customer_name\n",
    "    :Params invoice_file\n",
    "    :Params item_description\n",
    "    :Params item_monthly_price    \n",
    "    '''\n",
    "    filename = 'invoice_file1.csv'\n",
    "\n",
    "    tempfile = NamedTemporaryFile(mode='w', delete=False)\n",
    "\n",
    "    fieldnames = ['customer_name', 'item_code',\n",
    "                'item_description', 'item_monthly_price']\n",
    "    with open(filename, 'r', encoding='utf8') as csvfile, tempfile:\n",
    "        reader = csv.DictReader(csvfile, fieldnames=fields)\n",
    "        writer = csv.DictWriter(tempfile, fieldnames=fields)\n",
    "\n",
    "    #     filewriter.writerow(['customer_name', 'item_code',\n",
    "    #                          'item_description', 'item_monthly_price'])\n",
    "\n",
    "    for row in reader:\n",
    "\n",
    "        if row['customer_name'] == str(customer_name):\n",
    "            print('updating row', row['customer_name'])\n",
    "            row['customer_name'], row['item_code'], row['item_description'], row[\n",
    "                'item_monthly_price'] = customer_name, item_code, item_description, item_monthly_price\n",
    "        row = {'customer_name': row['customer_name'], 'item_code': row['item_code'],\n",
    "               'item_description': row['item_description'], 'item_monthly_price': row['item_monthly_price']}\n",
    "        writer.writerow(row)\n",
    "\n",
    "    shutil.move(tempfile.name, filename)\n",
    "\n",
    "    # writer.writerow(['customer_name', 'item_code',\n",
    "    #                  'item_description', 'item_monthly_price'])\n",
    "    # writer.writerow(['PElisa Miles', 'LR04',\n",
    "    #                         'Leather Sofa', '25.00'])\n",
    "    # writer.writerow(['Edward Data', 'KT78',\n",
    "    #                         'Kitchen Table', '10.00'])\n",
    "    # writer.writerow(['Alex Gonzales', 'BR02',\n",
    "    #                         'Queen Mattress', '17.00'])\n",
    "    # writer.writerow(['Gonzales', 'B02',\n",
    "    #                         'Mattress', '7.00'])\n",
    "    return writer\n",
    "\n",
    "\n",
    "def single_customer(customer_name, invoice_file):\n",
    "    '''\n",
    "    :Params customer_name\n",
    "    :Params invoice_file\n",
    "    :Returns function(rental_items),\n",
    "    This will iterate through rental_items and add each item to invoice_file\n",
    "    '''\n",
    "\n",
    "    # return \n",
    "    pass\n"
   ]
  },
  {
   "cell_type": "code",
   "execution_count": 58,
   "metadata": {},
   "outputs": [
    {
     "ename": "ValueError",
     "evalue": "binary mode doesn't take an encoding argument",
     "output_type": "error",
     "traceback": [
      "\u001b[0;31m---------------------------------------------------------------------------\u001b[0m",
      "\u001b[0;31mValueError\u001b[0m                                Traceback (most recent call last)",
      "\u001b[0;32m<ipython-input-58-07b3214f7204>\u001b[0m in \u001b[0;36m<module>\u001b[0;34m\u001b[0m\n\u001b[0;32m----> 1\u001b[0;31m \u001b[0madd_furniture\u001b[0m\u001b[0;34m(\u001b[0m\u001b[0mfilename\u001b[0m\u001b[0;34m,\u001b[0m \u001b[0;34m'Miles'\u001b[0m\u001b[0;34m,\u001b[0m \u001b[0;34m'L04'\u001b[0m\u001b[0;34m,\u001b[0m\u001b[0;34m'Sofa'\u001b[0m\u001b[0;34m,\u001b[0m \u001b[0;34m'5.00'\u001b[0m\u001b[0;34m)\u001b[0m\u001b[0;34m\u001b[0m\u001b[0m\n\u001b[0m",
      "\u001b[0;32m<ipython-input-57-575293f399ab>\u001b[0m in \u001b[0;36madd_furniture\u001b[0;34m(invoice_file, customer_name, item_code, item_description, item_monthly_price)\u001b[0m\n\u001b[1;32m     24\u001b[0m     '''\n\u001b[1;32m     25\u001b[0m \u001b[0;34m\u001b[0m\u001b[0m\n\u001b[0;32m---> 26\u001b[0;31m     \u001b[0;32mwith\u001b[0m \u001b[0mopen\u001b[0m\u001b[0;34m(\u001b[0m\u001b[0mfilename\u001b[0m\u001b[0;34m,\u001b[0m \u001b[0;34m'rb'\u001b[0m\u001b[0;34m,\u001b[0m \u001b[0mencoding\u001b[0m\u001b[0;34m=\u001b[0m\u001b[0;34m'utf8'\u001b[0m\u001b[0;34m)\u001b[0m \u001b[0;32mas\u001b[0m \u001b[0mcsvfile\u001b[0m\u001b[0;34m,\u001b[0m \u001b[0mtempfile\u001b[0m\u001b[0;34m:\u001b[0m\u001b[0;34m\u001b[0m\u001b[0m\n\u001b[0m\u001b[1;32m     27\u001b[0m         \u001b[0mreader\u001b[0m \u001b[0;34m=\u001b[0m \u001b[0mcsv\u001b[0m\u001b[0;34m.\u001b[0m\u001b[0mDictReader\u001b[0m\u001b[0;34m(\u001b[0m\u001b[0mcsvfile\u001b[0m\u001b[0;34m,\u001b[0m \u001b[0mfieldnames\u001b[0m\u001b[0;34m=\u001b[0m\u001b[0mfields\u001b[0m\u001b[0;34m)\u001b[0m\u001b[0;34m\u001b[0m\u001b[0m\n\u001b[1;32m     28\u001b[0m         \u001b[0mwriter\u001b[0m \u001b[0;34m=\u001b[0m \u001b[0mcsv\u001b[0m\u001b[0;34m.\u001b[0m\u001b[0mDictWriter\u001b[0m\u001b[0;34m(\u001b[0m\u001b[0mtempfile\u001b[0m\u001b[0;34m,\u001b[0m \u001b[0mfieldnames\u001b[0m\u001b[0;34m=\u001b[0m\u001b[0mfields\u001b[0m\u001b[0;34m)\u001b[0m\u001b[0;34m\u001b[0m\u001b[0m\n",
      "\u001b[0;31mValueError\u001b[0m: binary mode doesn't take an encoding argument"
     ]
    }
   ],
   "source": [
    "add_furniture(filename, 'Miles', 'L04','Sofa', '5.00')"
   ]
  },
  {
   "cell_type": "code",
   "execution_count": 60,
   "metadata": {},
   "outputs": [
    {
     "ename": "ValueError",
     "evalue": "binary mode doesn't take an encoding argument",
     "output_type": "error",
     "traceback": [
      "\u001b[0;31m---------------------------------------------------------------------------\u001b[0m",
      "\u001b[0;31mValueError\u001b[0m                                Traceback (most recent call last)",
      "\u001b[0;32m<ipython-input-60-07b3214f7204>\u001b[0m in \u001b[0;36m<module>\u001b[0;34m\u001b[0m\n\u001b[0;32m----> 1\u001b[0;31m \u001b[0madd_furniture\u001b[0m\u001b[0;34m(\u001b[0m\u001b[0mfilename\u001b[0m\u001b[0;34m,\u001b[0m \u001b[0;34m'Miles'\u001b[0m\u001b[0;34m,\u001b[0m \u001b[0;34m'L04'\u001b[0m\u001b[0;34m,\u001b[0m\u001b[0;34m'Sofa'\u001b[0m\u001b[0;34m,\u001b[0m \u001b[0;34m'5.00'\u001b[0m\u001b[0;34m)\u001b[0m\u001b[0;34m\u001b[0m\u001b[0m\n\u001b[0m",
      "\u001b[0;32m<ipython-input-59-575293f399ab>\u001b[0m in \u001b[0;36madd_furniture\u001b[0;34m(invoice_file, customer_name, item_code, item_description, item_monthly_price)\u001b[0m\n\u001b[1;32m     24\u001b[0m     '''\n\u001b[1;32m     25\u001b[0m \u001b[0;34m\u001b[0m\u001b[0m\n\u001b[0;32m---> 26\u001b[0;31m     \u001b[0;32mwith\u001b[0m \u001b[0mopen\u001b[0m\u001b[0;34m(\u001b[0m\u001b[0mfilename\u001b[0m\u001b[0;34m,\u001b[0m \u001b[0;34m'rb'\u001b[0m\u001b[0;34m,\u001b[0m \u001b[0mencoding\u001b[0m\u001b[0;34m=\u001b[0m\u001b[0;34m'utf8'\u001b[0m\u001b[0;34m)\u001b[0m \u001b[0;32mas\u001b[0m \u001b[0mcsvfile\u001b[0m\u001b[0;34m,\u001b[0m \u001b[0mtempfile\u001b[0m\u001b[0;34m:\u001b[0m\u001b[0;34m\u001b[0m\u001b[0m\n\u001b[0m\u001b[1;32m     27\u001b[0m         \u001b[0mreader\u001b[0m \u001b[0;34m=\u001b[0m \u001b[0mcsv\u001b[0m\u001b[0;34m.\u001b[0m\u001b[0mDictReader\u001b[0m\u001b[0;34m(\u001b[0m\u001b[0mcsvfile\u001b[0m\u001b[0;34m,\u001b[0m \u001b[0mfieldnames\u001b[0m\u001b[0;34m=\u001b[0m\u001b[0mfields\u001b[0m\u001b[0;34m)\u001b[0m\u001b[0;34m\u001b[0m\u001b[0m\n\u001b[1;32m     28\u001b[0m         \u001b[0mwriter\u001b[0m \u001b[0;34m=\u001b[0m \u001b[0mcsv\u001b[0m\u001b[0;34m.\u001b[0m\u001b[0mDictWriter\u001b[0m\u001b[0;34m(\u001b[0m\u001b[0mtempfile\u001b[0m\u001b[0;34m,\u001b[0m \u001b[0mfieldnames\u001b[0m\u001b[0;34m=\u001b[0m\u001b[0mfields\u001b[0m\u001b[0;34m)\u001b[0m\u001b[0;34m\u001b[0m\u001b[0m\n",
      "\u001b[0;31mValueError\u001b[0m: binary mode doesn't take an encoding argument"
     ]
    }
   ],
   "source": [
    "add_furniture(filename, 'Miles', 'L04','Sofa', '5.00')"
   ]
  },
  {
   "cell_type": "code",
   "execution_count": 62,
   "metadata": {},
   "outputs": [
    {
     "ename": "FileNotFoundError",
     "evalue": "[Errno 2] No such file or directory: 'invoice_file1.csv'",
     "output_type": "error",
     "traceback": [
      "\u001b[0;31m---------------------------------------------------------------------------\u001b[0m",
      "\u001b[0;31mFileNotFoundError\u001b[0m                         Traceback (most recent call last)",
      "\u001b[0;32m<ipython-input-62-07b3214f7204>\u001b[0m in \u001b[0;36m<module>\u001b[0;34m\u001b[0m\n\u001b[0;32m----> 1\u001b[0;31m \u001b[0madd_furniture\u001b[0m\u001b[0;34m(\u001b[0m\u001b[0mfilename\u001b[0m\u001b[0;34m,\u001b[0m \u001b[0;34m'Miles'\u001b[0m\u001b[0;34m,\u001b[0m \u001b[0;34m'L04'\u001b[0m\u001b[0;34m,\u001b[0m\u001b[0;34m'Sofa'\u001b[0m\u001b[0;34m,\u001b[0m \u001b[0;34m'5.00'\u001b[0m\u001b[0;34m)\u001b[0m\u001b[0;34m\u001b[0m\u001b[0m\n\u001b[0m",
      "\u001b[0;32m<ipython-input-61-b9f62007944d>\u001b[0m in \u001b[0;36madd_furniture\u001b[0;34m(invoice_file, customer_name, item_code, item_description, item_monthly_price)\u001b[0m\n\u001b[1;32m     24\u001b[0m     '''\n\u001b[1;32m     25\u001b[0m \u001b[0;34m\u001b[0m\u001b[0m\n\u001b[0;32m---> 26\u001b[0;31m     \u001b[0;32mwith\u001b[0m \u001b[0mopen\u001b[0m\u001b[0;34m(\u001b[0m\u001b[0mfilename\u001b[0m\u001b[0;34m,\u001b[0m \u001b[0;34m'r'\u001b[0m\u001b[0;34m,\u001b[0m \u001b[0mencoding\u001b[0m\u001b[0;34m=\u001b[0m\u001b[0;34m'utf8'\u001b[0m\u001b[0;34m)\u001b[0m \u001b[0;32mas\u001b[0m \u001b[0mcsvfile\u001b[0m\u001b[0;34m,\u001b[0m \u001b[0mtempfile\u001b[0m\u001b[0;34m:\u001b[0m\u001b[0;34m\u001b[0m\u001b[0m\n\u001b[0m\u001b[1;32m     27\u001b[0m         \u001b[0mreader\u001b[0m \u001b[0;34m=\u001b[0m \u001b[0mcsv\u001b[0m\u001b[0;34m.\u001b[0m\u001b[0mDictReader\u001b[0m\u001b[0;34m(\u001b[0m\u001b[0mcsvfile\u001b[0m\u001b[0;34m,\u001b[0m \u001b[0mfieldnames\u001b[0m\u001b[0;34m=\u001b[0m\u001b[0mfields\u001b[0m\u001b[0;34m)\u001b[0m\u001b[0;34m\u001b[0m\u001b[0m\n\u001b[1;32m     28\u001b[0m         \u001b[0mwriter\u001b[0m \u001b[0;34m=\u001b[0m \u001b[0mcsv\u001b[0m\u001b[0;34m.\u001b[0m\u001b[0mDictWriter\u001b[0m\u001b[0;34m(\u001b[0m\u001b[0mtempfile\u001b[0m\u001b[0;34m,\u001b[0m \u001b[0mfieldnames\u001b[0m\u001b[0;34m=\u001b[0m\u001b[0mfields\u001b[0m\u001b[0;34m)\u001b[0m\u001b[0;34m\u001b[0m\u001b[0m\n",
      "\u001b[0;31mFileNotFoundError\u001b[0m: [Errno 2] No such file or directory: 'invoice_file1.csv'"
     ]
    }
   ],
   "source": [
    "add_furniture(filename, 'Miles', 'L04','Sofa', '5.00')"
   ]
  },
  {
   "cell_type": "code",
   "execution_count": 64,
   "metadata": {},
   "outputs": [
    {
     "ename": "FileNotFoundError",
     "evalue": "[Errno 2] No such file or directory: 'invoice_file1.csv'",
     "output_type": "error",
     "traceback": [
      "\u001b[0;31m---------------------------------------------------------------------------\u001b[0m",
      "\u001b[0;31mFileNotFoundError\u001b[0m                         Traceback (most recent call last)",
      "\u001b[0;32m<ipython-input-64-07b3214f7204>\u001b[0m in \u001b[0;36m<module>\u001b[0;34m\u001b[0m\n\u001b[0;32m----> 1\u001b[0;31m \u001b[0madd_furniture\u001b[0m\u001b[0;34m(\u001b[0m\u001b[0mfilename\u001b[0m\u001b[0;34m,\u001b[0m \u001b[0;34m'Miles'\u001b[0m\u001b[0;34m,\u001b[0m \u001b[0;34m'L04'\u001b[0m\u001b[0;34m,\u001b[0m\u001b[0;34m'Sofa'\u001b[0m\u001b[0;34m,\u001b[0m \u001b[0;34m'5.00'\u001b[0m\u001b[0;34m)\u001b[0m\u001b[0;34m\u001b[0m\u001b[0m\n\u001b[0m",
      "\u001b[0;32m<ipython-input-63-fb418ceff298>\u001b[0m in \u001b[0;36madd_furniture\u001b[0;34m(invoice_file, customer_name, item_code, item_description, item_monthly_price)\u001b[0m\n\u001b[1;32m     23\u001b[0m     fieldnames = ['customer_name', 'item_code',\n\u001b[1;32m     24\u001b[0m                 'item_description', 'item_monthly_price']\n\u001b[0;32m---> 25\u001b[0;31m     \u001b[0;32mwith\u001b[0m \u001b[0mopen\u001b[0m\u001b[0;34m(\u001b[0m\u001b[0mfilename\u001b[0m\u001b[0;34m,\u001b[0m \u001b[0;34m'r'\u001b[0m\u001b[0;34m,\u001b[0m \u001b[0mencoding\u001b[0m\u001b[0;34m=\u001b[0m\u001b[0;34m'utf8'\u001b[0m\u001b[0;34m)\u001b[0m \u001b[0;32mas\u001b[0m \u001b[0mcsvfile\u001b[0m\u001b[0;34m,\u001b[0m \u001b[0mtempfile\u001b[0m\u001b[0;34m:\u001b[0m\u001b[0;34m\u001b[0m\u001b[0m\n\u001b[0m\u001b[1;32m     26\u001b[0m         \u001b[0mreader\u001b[0m \u001b[0;34m=\u001b[0m \u001b[0mcsv\u001b[0m\u001b[0;34m.\u001b[0m\u001b[0mDictReader\u001b[0m\u001b[0;34m(\u001b[0m\u001b[0mcsvfile\u001b[0m\u001b[0;34m,\u001b[0m \u001b[0mfieldnames\u001b[0m\u001b[0;34m=\u001b[0m\u001b[0mfields\u001b[0m\u001b[0;34m)\u001b[0m\u001b[0;34m\u001b[0m\u001b[0m\n\u001b[1;32m     27\u001b[0m         \u001b[0mwriter\u001b[0m \u001b[0;34m=\u001b[0m \u001b[0mcsv\u001b[0m\u001b[0;34m.\u001b[0m\u001b[0mDictWriter\u001b[0m\u001b[0;34m(\u001b[0m\u001b[0mtempfile\u001b[0m\u001b[0;34m,\u001b[0m \u001b[0mfieldnames\u001b[0m\u001b[0;34m=\u001b[0m\u001b[0mfields\u001b[0m\u001b[0;34m)\u001b[0m\u001b[0;34m\u001b[0m\u001b[0m\n",
      "\u001b[0;31mFileNotFoundError\u001b[0m: [Errno 2] No such file or directory: 'invoice_file1.csv'"
     ]
    }
   ],
   "source": [
    "add_furniture(filename, 'Miles', 'L04','Sofa', '5.00')"
   ]
  },
  {
   "cell_type": "code",
   "execution_count": 65,
   "metadata": {},
   "outputs": [],
   "source": [
    "\n",
    "from tempfile import NamedTemporaryFile\n",
    "import shutil\n",
    "import csv \n",
    "from functools import partial\n",
    "\n",
    "\n",
    "def add_furniture(invoice_file,\n",
    "                  customer_name,\n",
    "                  item_code,\n",
    "                  item_description,\n",
    "                  item_monthly_price):\n",
    "    '''this will create invoice_file if it doesn’t exist or append a new line to it if it does.\n",
    "    :Params customer_name\n",
    "    :Params invoice_file\n",
    "    :Params item_description\n",
    "    :Params item_monthly_price    \n",
    "    '''\n",
    "    filename = 'invoice_file1.csv'\n",
    "\n",
    "    tempfile = NamedTemporaryFile(mode='w', delete=False)\n",
    "\n",
    "    fieldnames = ['customer_name', 'item_code',\n",
    "                'item_description', 'item_monthly_price']\n",
    "    with open(filename, 'r', encoding='utf8') as csvfile, tempfile:\n",
    "        reader = csv.DictReader(csvfile, fieldnames=fields)\n",
    "        writer = csv.DictWriter(tempfile, fieldnames=fields)\n",
    "\n",
    "    #     filewriter.writerow(['customer_name', 'item_code',\n",
    "    #                          'item_description', 'item_monthly_price'])\n",
    "\n",
    "    for row in reader:\n",
    "\n",
    "        if row['customer_name'] == str(customer_name):\n",
    "            print('updating row', row['customer_name'])\n",
    "            row['customer_name'], row['item_code'], row['item_description'], row[\n",
    "                'item_monthly_price'] = customer_name, item_code, item_description, item_monthly_price\n",
    "        row = {'customer_name': row['customer_name'], 'item_code': row['item_code'],\n",
    "               'item_description': row['item_description'], 'item_monthly_price': row['item_monthly_price']}\n",
    "        writer.writerow(row)\n",
    "\n",
    "    shutil.move(tempfile.name, filename)\n",
    "\n",
    "    # writer.writerow(['customer_name', 'item_code',\n",
    "    #                  'item_description', 'item_monthly_price'])\n",
    "    # writer.writerow(['PElisa Miles', 'LR04',\n",
    "    #                         'Leather Sofa', '25.00'])\n",
    "    # writer.writerow(['Edward Data', 'KT78',\n",
    "    #                         'Kitchen Table', '10.00'])\n",
    "    # writer.writerow(['Alex Gonzales', 'BR02',\n",
    "    #                         'Queen Mattress', '17.00'])\n",
    "    # writer.writerow(['Gonzales', 'B02',\n",
    "    #                         'Mattress', '7.00'])\n",
    "    return writer\n",
    "\n",
    "\n",
    "def single_customer(customer_name, invoice_file):\n",
    "    '''\n",
    "    :Params customer_name\n",
    "    :Params invoice_file\n",
    "    :Returns function(rental_items),\n",
    "    This will iterate through rental_items and add each item to invoice_file\n",
    "    '''\n",
    "\n",
    "    # return \n",
    "    pass\n"
   ]
  },
  {
   "cell_type": "code",
   "execution_count": 66,
   "metadata": {},
   "outputs": [
    {
     "ename": "FileNotFoundError",
     "evalue": "[Errno 2] No such file or directory: 'invoice_file1.csv'",
     "output_type": "error",
     "traceback": [
      "\u001b[0;31m---------------------------------------------------------------------------\u001b[0m",
      "\u001b[0;31mFileNotFoundError\u001b[0m                         Traceback (most recent call last)",
      "\u001b[0;32m<ipython-input-66-07b3214f7204>\u001b[0m in \u001b[0;36m<module>\u001b[0;34m\u001b[0m\n\u001b[0;32m----> 1\u001b[0;31m \u001b[0madd_furniture\u001b[0m\u001b[0;34m(\u001b[0m\u001b[0mfilename\u001b[0m\u001b[0;34m,\u001b[0m \u001b[0;34m'Miles'\u001b[0m\u001b[0;34m,\u001b[0m \u001b[0;34m'L04'\u001b[0m\u001b[0;34m,\u001b[0m\u001b[0;34m'Sofa'\u001b[0m\u001b[0;34m,\u001b[0m \u001b[0;34m'5.00'\u001b[0m\u001b[0;34m)\u001b[0m\u001b[0;34m\u001b[0m\u001b[0m\n\u001b[0m",
      "\u001b[0;32m<ipython-input-65-fb418ceff298>\u001b[0m in \u001b[0;36madd_furniture\u001b[0;34m(invoice_file, customer_name, item_code, item_description, item_monthly_price)\u001b[0m\n\u001b[1;32m     23\u001b[0m     fieldnames = ['customer_name', 'item_code',\n\u001b[1;32m     24\u001b[0m                 'item_description', 'item_monthly_price']\n\u001b[0;32m---> 25\u001b[0;31m     \u001b[0;32mwith\u001b[0m \u001b[0mopen\u001b[0m\u001b[0;34m(\u001b[0m\u001b[0mfilename\u001b[0m\u001b[0;34m,\u001b[0m \u001b[0;34m'r'\u001b[0m\u001b[0;34m,\u001b[0m \u001b[0mencoding\u001b[0m\u001b[0;34m=\u001b[0m\u001b[0;34m'utf8'\u001b[0m\u001b[0;34m)\u001b[0m \u001b[0;32mas\u001b[0m \u001b[0mcsvfile\u001b[0m\u001b[0;34m,\u001b[0m \u001b[0mtempfile\u001b[0m\u001b[0;34m:\u001b[0m\u001b[0;34m\u001b[0m\u001b[0m\n\u001b[0m\u001b[1;32m     26\u001b[0m         \u001b[0mreader\u001b[0m \u001b[0;34m=\u001b[0m \u001b[0mcsv\u001b[0m\u001b[0;34m.\u001b[0m\u001b[0mDictReader\u001b[0m\u001b[0;34m(\u001b[0m\u001b[0mcsvfile\u001b[0m\u001b[0;34m,\u001b[0m \u001b[0mfieldnames\u001b[0m\u001b[0;34m=\u001b[0m\u001b[0mfields\u001b[0m\u001b[0;34m)\u001b[0m\u001b[0;34m\u001b[0m\u001b[0m\n\u001b[1;32m     27\u001b[0m         \u001b[0mwriter\u001b[0m \u001b[0;34m=\u001b[0m \u001b[0mcsv\u001b[0m\u001b[0;34m.\u001b[0m\u001b[0mDictWriter\u001b[0m\u001b[0;34m(\u001b[0m\u001b[0mtempfile\u001b[0m\u001b[0;34m,\u001b[0m \u001b[0mfieldnames\u001b[0m\u001b[0;34m=\u001b[0m\u001b[0mfields\u001b[0m\u001b[0;34m)\u001b[0m\u001b[0;34m\u001b[0m\u001b[0m\n",
      "\u001b[0;31mFileNotFoundError\u001b[0m: [Errno 2] No such file or directory: 'invoice_file1.csv'"
     ]
    }
   ],
   "source": [
    "add_furniture(filename, 'Miles', 'L04','Sofa', '5.00')"
   ]
  },
  {
   "cell_type": "code",
   "execution_count": 67,
   "metadata": {},
   "outputs": [],
   "source": [
    "\n",
    "import csv\n",
    "import csv \n",
    "from functools import partial\n",
    "\n",
    "import csv\n",
    "\n",
    "\n",
    "def add_furniture(invoice_file,\n",
    "                  customer_name,\n",
    "                  item_code,\n",
    "                  item_description,\n",
    "                  item_monthly_price):\n",
    "    '''this will create invoice_file if it doesn’t exist or append a new line to it if it does.\n",
    "    :Params customer_name\n",
    "    :Params invoice_file\n",
    "    :Params item_description\n",
    "    :Params item_monthly_price    \n",
    "    '''\n",
    "\n",
    "    with open('invoice_file2.csv', 'w') as csvfile:\n",
    "        fieldnames = ['customer_name', 'item_code',\n",
    "                      'item_description', 'item_monthly_price']\n",
    "        filewriter = csv.DictWriter(csvfile, fieldnames=fieldnames)\n",
    "\n",
    "        filewriter.writeheader()\n",
    "        filewriter.writerows([{'customer_name': 'Elisa Miles', 'item_code': 'LR04', 'item_description': 'Leather Sofa', 'item_monthly_price': '25.00'},\n",
    "                              {'customer_name': 'Edward Data', 'item_code': 'KT78',\n",
    "                                  'item_description': 'Kitchen Table', 'item_monthly_price': '10.00'},\n",
    "                              {'customer_name': 'Alex Gonzales', 'item_code': 'BR02',\n",
    "                                  'item_description': 'Queen Mattress', 'item_monthly_price': '17.00'},\n",
    "                              {'customer_name': 'Gonzales', 'item_code': 'B04',\n",
    "                                  'item_description': 'Mattress', 'item_monthly_price': '7.00'}\n",
    "                              ])\n",
    "\n",
    "    print(\"writing completed\")\n",
    "\n",
    "\n",
    "def single_customer(customer_name, invoice_file):\n",
    "    '''\n",
    "    :Params customer_name\n",
    "    :Params invoice_file\n",
    "    :Returns function(rental_items),\n",
    "    This will iterate through rental_items and add each item to invoice_file\n",
    "    '''\n",
    "\n",
    "    # return \n",
    "    pass\n"
   ]
  },
  {
   "cell_type": "code",
   "execution_count": 68,
   "metadata": {},
   "outputs": [
    {
     "name": "stdout",
     "output_type": "stream",
     "text": [
      "writing completed\n"
     ]
    }
   ],
   "source": [
    "add_furniture(filename, 'Miles', 'L04','Sofa', '5.00')"
   ]
  },
  {
   "cell_type": "code",
   "execution_count": 69,
   "metadata": {},
   "outputs": [
    {
     "ename": "NameError",
     "evalue": "name 'invoice_file' is not defined",
     "output_type": "error",
     "traceback": [
      "\u001b[0;31m---------------------------------------------------------------------------\u001b[0m",
      "\u001b[0;31mNameError\u001b[0m                                 Traceback (most recent call last)",
      "\u001b[0;32m<ipython-input-69-66512d7d433c>\u001b[0m in \u001b[0;36m<module>\u001b[0;34m\u001b[0m\n\u001b[0;32m----> 1\u001b[0;31m add_furniture(invoice_file,\n\u001b[0m\u001b[1;32m      2\u001b[0m                   \u001b[0mcustomer_name\u001b[0m\u001b[0;34m,\u001b[0m\u001b[0;34m\u001b[0m\u001b[0m\n\u001b[1;32m      3\u001b[0m                   \u001b[0mitem_code\u001b[0m\u001b[0;34m,\u001b[0m\u001b[0;34m\u001b[0m\u001b[0m\n\u001b[1;32m      4\u001b[0m                   \u001b[0mitem_description\u001b[0m\u001b[0;34m,\u001b[0m\u001b[0;34m\u001b[0m\u001b[0m\n\u001b[1;32m      5\u001b[0m                   item_monthly_price)\n",
      "\u001b[0;31mNameError\u001b[0m: name 'invoice_file' is not defined"
     ]
    }
   ],
   "source": [
    "add_furniture(invoice_file,\n",
    "                  customer_name,\n",
    "                  item_code,\n",
    "                  item_description,\n",
    "                  item_monthly_price)"
   ]
  },
  {
   "cell_type": "code",
   "execution_count": 70,
   "metadata": {},
   "outputs": [
    {
     "ename": "NameError",
     "evalue": "name 'customer_name' is not defined",
     "output_type": "error",
     "traceback": [
      "\u001b[0;31m---------------------------------------------------------------------------\u001b[0m",
      "\u001b[0;31mNameError\u001b[0m                                 Traceback (most recent call last)",
      "\u001b[0;32m<ipython-input-70-a29500c3ae01>\u001b[0m in \u001b[0;36m<module>\u001b[0;34m\u001b[0m\n\u001b[1;32m      1\u001b[0m add_furniture(filename,\n\u001b[0;32m----> 2\u001b[0;31m                   \u001b[0mcustomer_name\u001b[0m\u001b[0;34m,\u001b[0m\u001b[0;34m\u001b[0m\u001b[0m\n\u001b[0m\u001b[1;32m      3\u001b[0m                   \u001b[0mitem_code\u001b[0m\u001b[0;34m,\u001b[0m\u001b[0;34m\u001b[0m\u001b[0m\n\u001b[1;32m      4\u001b[0m                   \u001b[0mitem_description\u001b[0m\u001b[0;34m,\u001b[0m\u001b[0;34m\u001b[0m\u001b[0m\n\u001b[1;32m      5\u001b[0m                   item_monthly_price)\n",
      "\u001b[0;31mNameError\u001b[0m: name 'customer_name' is not defined"
     ]
    }
   ],
   "source": [
    "add_furniture(filename,\n",
    "                  customer_name,\n",
    "                  item_code,\n",
    "                  item_description,\n",
    "                  item_monthly_price)"
   ]
  },
  {
   "cell_type": "code",
   "execution_count": 76,
   "metadata": {},
   "outputs": [
    {
     "name": "stdout",
     "output_type": "stream",
     "text": [
      "23\n"
     ]
    }
   ],
   "source": [
    "s = 0\n",
    "for n in range(1, 10):\n",
    "#     s = []\n",
    "    if n % 3 == 0 or n % 5 == 0:\n",
    "#         s.append(n)\n",
    "        s += n\n",
    "print(s)"
   ]
  },
  {
   "cell_type": "code",
   "execution_count": 78,
   "metadata": {},
   "outputs": [
    {
     "name": "stdout",
     "output_type": "stream",
     "text": [
      "[3, 5, 6, 9]\n"
     ]
    }
   ],
   "source": [
    "m = list()\n",
    "for n in range(1, 10):\n",
    "    if n % 3 == 0 or n % 5 == 0:\n",
    "        m.append(n)\n",
    "print(m)"
   ]
  },
  {
   "cell_type": "code",
   "execution_count": 79,
   "metadata": {},
   "outputs": [],
   "source": [
    "class SummableList(list):\n",
    "    def sum( self ):\n",
    "        s= 0\n",
    "        for v in self.__iter__():\n",
    "            s += v\n",
    "        return s"
   ]
  },
  {
   "cell_type": "code",
   "execution_count": 80,
   "metadata": {},
   "outputs": [],
   "source": [
    "m = SummableList()"
   ]
  },
  {
   "cell_type": "code",
   "execution_count": 81,
   "metadata": {},
   "outputs": [
    {
     "ename": "TypeError",
     "evalue": "'SummableList' object is not callable",
     "output_type": "error",
     "traceback": [
      "\u001b[0;31m---------------------------------------------------------------------------\u001b[0m",
      "\u001b[0;31mTypeError\u001b[0m                                 Traceback (most recent call last)",
      "\u001b[0;32m<ipython-input-81-9ef72a88b856>\u001b[0m in \u001b[0;36m<module>\u001b[0;34m\u001b[0m\n\u001b[0;32m----> 1\u001b[0;31m \u001b[0mm\u001b[0m\u001b[0;34m(\u001b[0m\u001b[0;36m10\u001b[0m\u001b[0;34m)\u001b[0m\u001b[0;34m\u001b[0m\u001b[0m\n\u001b[0m",
      "\u001b[0;31mTypeError\u001b[0m: 'SummableList' object is not callable"
     ]
    }
   ],
   "source": [
    "m(10)"
   ]
  },
  {
   "cell_type": "code",
   "execution_count": 85,
   "metadata": {},
   "outputs": [],
   "source": [
    "m = SummableList()"
   ]
  },
  {
   "cell_type": "code",
   "execution_count": 83,
   "metadata": {},
   "outputs": [],
   "source": [
    "m = SummableList()\n"
   ]
  },
  {
   "cell_type": "code",
   "execution_count": 84,
   "metadata": {},
   "outputs": [
    {
     "data": {
      "text/plain": [
       "[]"
      ]
     },
     "execution_count": 84,
     "metadata": {},
     "output_type": "execute_result"
    }
   ],
   "source": [
    "m"
   ]
  },
  {
   "cell_type": "code",
   "execution_count": 86,
   "metadata": {},
   "outputs": [
    {
     "ename": "TypeError",
     "evalue": "sum() takes 1 positional argument but 2 were given",
     "output_type": "error",
     "traceback": [
      "\u001b[0;31m---------------------------------------------------------------------------\u001b[0m",
      "\u001b[0;31mTypeError\u001b[0m                                 Traceback (most recent call last)",
      "\u001b[0;32m<ipython-input-86-85a6f3c1156b>\u001b[0m in \u001b[0;36m<module>\u001b[0;34m\u001b[0m\n\u001b[0;32m----> 1\u001b[0;31m \u001b[0mm\u001b[0m\u001b[0;34m.\u001b[0m\u001b[0msum\u001b[0m\u001b[0;34m(\u001b[0m\u001b[0;36m10\u001b[0m\u001b[0;34m)\u001b[0m\u001b[0;34m\u001b[0m\u001b[0m\n\u001b[0m",
      "\u001b[0;31mTypeError\u001b[0m: sum() takes 1 positional argument but 2 were given"
     ]
    }
   ],
   "source": [
    " m.sum(10) "
   ]
  },
  {
   "cell_type": "code",
   "execution_count": 87,
   "metadata": {},
   "outputs": [
    {
     "data": {
      "text/plain": [
       "0"
      ]
     },
     "execution_count": 87,
     "metadata": {},
     "output_type": "execute_result"
    }
   ],
   "source": [
    " m.sum()"
   ]
  },
  {
   "cell_type": "code",
   "execution_count": 88,
   "metadata": {},
   "outputs": [
    {
     "data": {
      "text/plain": [
       "0"
      ]
     },
     "execution_count": 88,
     "metadata": {},
     "output_type": "execute_result"
    }
   ],
   "source": [
    " m.sum() "
   ]
  },
  {
   "cell_type": "code",
   "execution_count": 89,
   "metadata": {},
   "outputs": [
    {
     "data": {
      "text/plain": [
       "0"
      ]
     },
     "execution_count": 89,
     "metadata": {},
     "output_type": "execute_result"
    }
   ],
   "source": [
    " m.sum() "
   ]
  },
  {
   "cell_type": "code",
   "execution_count": 90,
   "metadata": {},
   "outputs": [
    {
     "name": "stdout",
     "output_type": "stream",
     "text": [
      "Found directory: .\n",
      "\tUntitled.ipynb\n",
      "\ttest_inventory.py\n",
      "\ttest_items.csv\n",
      "\tinventory_v1.py\n",
      "\tinvoice_file.csv\n",
      "\tinventory.py\n",
      "Found directory: ./.pytest_cache\n",
      "\tREADME.md\n",
      "\t.gitignore\n",
      "Found directory: ./.pytest_cache/v\n",
      "Found directory: ./.pytest_cache/v/cache\n",
      "\tnodeids\n",
      "\tlastfailed\n",
      "\tstepwise\n",
      "Found directory: ./__pycache__\n",
      "\ttest_inventory.cpython-37-PYTEST.pyc\n",
      "\tinventory_v1.cpython-37.pyc\n",
      "Found directory: ./.ipynb_checkpoints\n",
      "\tUntitled-checkpoint.ipynb\n"
     ]
    }
   ],
   "source": [
    "\n",
    "# Import the os module, for the os.walk function\n",
    "import os\n",
    " \n",
    "# Set the directory you want to start from\n",
    "rootDir = '.'\n",
    "for dirName, subdirList, fileList in os.walk(rootDir):\n",
    "    print('Found directory: %s' % dirName)\n",
    "    for fname in fileList:\n",
    "        print('\\t%s' % fname)"
   ]
  },
  {
   "cell_type": "code",
   "execution_count": null,
   "metadata": {},
   "outputs": [],
   "source": [
    "def log_and_time(job_type):\n",
    "  def log_decorator(function):\n",
    "    def log_work():\n",
    "\n",
    "      print job_type\n",
    "      scrape_log = ScrapeLog(start_time=datetime.now(), job_type=job_type)\n",
    "      session.add(scrape_log)\n",
    "      session.commit()\n",
    "\n",
    "      try:\n",
    "        log_info = function()\n",
    "      except Exception as e:\n",
    "        scrape_log.error = True\n",
    "        scrape_log.error_message = e.message\n",
    "\n",
    "      scrape_log.end_time = datetime.now()\n",
    "      session.add(scrape_log)\n",
    "      session.commit()\n",
    "\n",
    "      return log_info #returning what the decorated function returns\n",
    "    return log_work\n",
    "  return log_decorator #returning the decorator function\n",
    "\n",
    "@log_and_time(\"comments\")\n",
    "def gather_comments():\n",
    " rg = RedditGatherer()\n",
    " rg.gather_comments()\n",
    "\n",
    "@log_and_time(\"threads\")\n",
    "def gather_threads():\n",
    " rg = RedditGatherer()\n",
    " rg.gather_threads()"
   ]
  },
  {
   "cell_type": "code",
   "execution_count": null,
   "metadata": {},
   "outputs": [],
   "source": [
    "rg"
   ]
  },
  {
   "cell_type": "code",
   "execution_count": null,
   "metadata": {},
   "outputs": [],
   "source": []
  }
 ],
 "metadata": {
  "kernelspec": {
   "display_name": "Python 3",
   "language": "python",
   "name": "python3"
  },
  "language_info": {
   "codemirror_mode": {
    "name": "ipython",
    "version": 3
   },
   "file_extension": ".py",
   "mimetype": "text/x-python",
   "name": "python",
   "nbconvert_exporter": "python",
   "pygments_lexer": "ipython3",
   "version": "3.7.0"
  }
 },
 "nbformat": 4,
 "nbformat_minor": 2
}
